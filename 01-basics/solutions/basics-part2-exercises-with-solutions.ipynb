{
 "cells": [
  {
   "cell_type": "markdown",
   "metadata": {},
   "source": [
    "# 1. Find Errors"
   ]
  },
  {
   "cell_type": "markdown",
   "metadata": {},
   "source": [
    "*Learned Skills: basic python skills*"
   ]
  },
  {
   "cell_type": "markdown",
   "metadata": {},
   "source": [
    "Find programming errors in the following code"
   ]
  },
  {
   "cell_type": "code",
   "execution_count": 3,
   "metadata": {
    "collapsed": false
   },
   "outputs": [
    {
     "name": "stdout",
     "output_type": "stream",
     "text": [
      "Enter a number: 34\n",
      "the average of 34 random numbers is 0.616628\n"
     ]
    }
   ],
   "source": [
    "#!/usr/bin/ env python\n",
    "\n",
    "import random\n",
    "\n",
    "def compute(n):\n",
    "    i = 0; s = 0\n",
    "    while i <= n:\n",
    "        s += random.random()\n",
    "        i += 1\n",
    "    return s/n\n",
    "\n",
    "n = int(input(\"Enter a number: \"))\n",
    "\n",
    "print('the average of %d random numbers is %g' % (n, compute(n)))"
   ]
  },
  {
   "cell_type": "markdown",
   "metadata": {},
   "source": [
    "# 2. Cartesian/Polar Coordinates"
   ]
  },
  {
   "cell_type": "markdown",
   "metadata": {},
   "source": [
    "*Learned Skills:  Writing functions*"
   ]
  },
  {
   "cell_type": "markdown",
   "metadata": {},
   "source": [
    "Points may be given in polar $(r, \\theta)$ or cartesian coordinates $(x, y)$, see Figure 1.\n",
    "\n",
    "<img src=\"files/pol2cart.png\" />\n",
    "\n",
    "Figure 1. Relationship between polar and cartesian coordinates.\n"
   ]
  },
  {
   "cell_type": "markdown",
   "metadata": {},
   "source": [
    "1\\. Write a function $\\mathtt{pol2cart}$, that takes a tuple $\\mathtt{(r, θ)}$ in polar coordinates and\n",
    "returns a tuple in cartesian coordinates."
   ]
  },
  {
   "cell_type": "markdown",
   "metadata": {},
   "source": [
    "2\\. Write the inverse function $\\mathtt{cart2pol}$, such that $\\mathtt{pol2cart( cart2pol( ( x,y) ) )}$ is $\\mathtt{(x, y)}$ for any input $\\mathtt{(x, y)}$."
   ]
  },
  {
   "cell_type": "markdown",
   "metadata": {},
   "source": [
    "3\\. Extend the two functions, such that they can in addition handle lists of tuples."
   ]
  },
  {
   "cell_type": "code",
   "execution_count": 1,
   "metadata": {
    "collapsed": false
   },
   "outputs": [
    {
     "name": "stdout",
     "output_type": "stream",
     "text": [
      "Cartesian :  [(2, 1), (3.4, 5.3)]\n",
      "Polar     :  [(2.23606797749979, 0.4636476090008061), (6.296824596572466, 1.0004130451449549)]\n",
      "And Back  :  [(2.0, 1.0), (3.4000000000000004, 5.3)]\n"
     ]
    }
   ],
   "source": [
    "#!/usr/bin/env python\n",
    "from math import *\n",
    "\n",
    "def pol2cart( pts ):\n",
    "    if isinstance( pts, tuple ):\n",
    "        pts=[pts];\n",
    "    c=[ (r*cos(th), r*sin(th)) for (r,th) in pts ];\n",
    "    return c if len(c)>1 else c[0]\n",
    "\n",
    "def cart2pol( pts ):\n",
    "    if isinstance( pts, tuple ):\n",
    "        pts=[pts];\n",
    "    p=[ (sqrt(x**2+y**2), atan(float(y)/x)) for (x,y) in pts ];\n",
    "    return p if len(p)>1 else p[0]\n",
    "\n",
    "\n",
    "pts=[(2,1), (3.4, 5.3)];\n",
    "print(\"Cartesian : \",pts)\n",
    "print(\"Polar     : \",cart2pol( pts ))\n",
    "print(\"And Back  : \",pol2cart(cart2pol( pts )))\n"
   ]
  },
  {
   "cell_type": "markdown",
   "metadata": {},
   "source": [
    "# 3. Word counting"
   ]
  },
  {
   "cell_type": "markdown",
   "metadata": {},
   "source": [
    "*Learned Skills: File input/output*"
   ]
  },
  {
   "cell_type": "markdown",
   "metadata": {},
   "source": [
    "1\\. Create a script that opens a text file for reading and report the number of lines,\n",
    "words and characters. Assume that words are separated by whitespace (forget hifens!)."
   ]
  },
  {
   "cell_type": "markdown",
   "metadata": {},
   "source": [
    "2\\. Open a text file for writing and save the count in it."
   ]
  },
  {
   "cell_type": "markdown",
   "metadata": {},
   "source": [
    "3\\. Extra: Choose a book from The Project Gutenberg (www.gutenberg.org , e.g., *“The Merry Adventures of Robin Hood, by Howard Pyle”*) in text format and list the ten most frequently used words. You can use a Dictionary for counting."
   ]
  },
  {
   "cell_type": "markdown",
   "metadata": {},
   "source": [
    "**Useful:** $\\mathtt{string.split()}$ $\\mathtt{open()}$, $\\mathtt{file.read()}$ and $\\mathtt{file.write()}$"
   ]
  },
  {
   "cell_type": "code",
   "execution_count": 5,
   "metadata": {
    "collapsed": false
   },
   "outputs": [
    {
     "name": "stdout",
     "output_type": "stream",
     "text": [
      "[('I', 1342), ('in', 1353), ('he', 1458), ('his', 1492), ('to', 2045), ('a', 2184), ('of', 2430), ('', 2877), ('and', 3240), ('the', 5130)]\n"
     ]
    }
   ],
   "source": [
    "from operator import itemgetter\n",
    "\n",
    "# Word Counting - Part 1\n",
    "f = open(\"RobinHood.txt\")\n",
    "\n",
    "lines = f.readlines()\n",
    "\n",
    "num_lines = len(lines)\n",
    "\n",
    "num_words = num_chars = 0\n",
    "for s in lines:\n",
    "    num_words += len(s.split(' '))\n",
    "    num_chars += len(s)\n",
    "\n",
    "# Word Counting - Part 2\n",
    "f_save = open(\"RobinHood_Statistics.txt\",'w')\n",
    "\n",
    "f_save.write(\"Number of lines: %d, number of words: %d, number of characters: %d\" % (num_lines, num_words, num_chars))\n",
    "f_save.close()\n",
    "\n",
    "# Word Counting - Part 3\n",
    "f.seek(0)\n",
    "words = f.read().split(' ')\n",
    "words_dict = {}\n",
    "for i in range(len(words)):\n",
    "    if words[i] in words_dict:\n",
    "        words_dict[words[i]] += 1\n",
    "    else:\n",
    "        words_dict[words[i]] = 1\n",
    "    \n",
    "tmp = list(words_dict.items())\n",
    "tmp.sort(key=itemgetter(1))\n",
    "\n",
    "print(tmp[-10:])\n",
    "f.close()\n"
   ]
  },
  {
   "cell_type": "markdown",
   "metadata": {},
   "source": [
    "# 4. Party game"
   ]
  },
  {
   "cell_type": "markdown",
   "metadata": {},
   "source": [
    "*Learned Skills: Random numbers; Loops*"
   ]
  },
  {
   "cell_type": "markdown",
   "metadata": {},
   "source": [
    "One guessing game, called “squeezed”, is very common in parties. It consists of a player,\n",
    "the chooser, who writes down a number between 00–99. The other players then take\n",
    "turns guessing numbers, with a catch: if one says the chosen number, he loses and has\n",
    "to do something daft. If the guessed number is not the chosen one, it splits the range.\n",
    "The chooser then states the part which contains the chosen number. If the new region\n",
    "only has one number, the chooser is said to be “squeezed” and is punished. An example\n",
    "of gameplay would be:\n",
    "\n",
    "* Chooser writes down (secretly) his number (let’s say, 30).\n",
    " * Chooser: “State a number between 00 and 99.”\n",
    " * Player: “42”.\n",
    " * Chooser: “State a number between 00 and 42.”\n",
    " * Player: “26”.\n",
    " * Chooser: “State a number between 26 and 42.”\n",
    "\n",
    "    $\\vdots$\n",
    "    \n",
    " * Chooser: “State a number between 29 and 32.”\n",
    " * Player: “31”.\n",
    "* Chooser dances some very silly children song.\n",
    "\n",
    "Implement this game in Python, where the computer is the chooser.\n",
    "\n",
    "**Useful:** $\\mathtt{random.randint()}$ and $\\mathtt{input()}$."
   ]
  },
  {
   "cell_type": "code",
   "execution_count": 8,
   "metadata": {
    "collapsed": false
   },
   "outputs": [
    {
     "name": "stdout",
     "output_type": "stream",
     "text": [
      "30\n",
      "State a number between 0 and 99: 67\n",
      "State a number between 0 and 67: 34\n",
      "State a number between 0 and 34: 23\n",
      "State a number between 23 and 34: 28\n",
      "State a number between 28 and 34: 32\n",
      "State a number between 28 and 32: 30\n",
      "Soooory, you hit the number - haha, you have to kiss your neighbor! Okay, let's say only on the cheek.\n"
     ]
    }
   ],
   "source": [
    "from random import randint\n",
    "\n",
    "secret_num = randint(0,99)\n",
    "print(secret_num)\n",
    "interval = [0,99]\n",
    "while 1:\n",
    "    guessed_num = int(input(\"State a number between %d and %d: \" % tuple(interval)))\n",
    "    if guessed_num > interval[1]:\n",
    "        print(\"Number is to large, we said between %d and %d\" % tuple(interval))\n",
    "    elif guessed_num < interval[0]:\n",
    "        print(\"Number is to small, we said between %d and %d\" % tuple(interval))\n",
    "    elif guessed_num == secret_num:\n",
    "        print(\"Soooory, you hit the number - haha, you have to kiss your neighbor! Okay, let's say only on the cheek.\")\n",
    "        break\n",
    "    elif guessed_num < secret_num:\n",
    "        interval[0] = guessed_num\n",
    "    elif guessed_num > secret_num:\n",
    "        interval[1] = guessed_num\n",
    "        \n",
    "    if interval[0]+1 == secret_num and interval[1]-1 == secret_num:\n",
    "        print(\"Okay, you won. I'll do the silly dance for you if you provide me with legs.\")\n",
    "        break\n"
   ]
  },
  {
   "cell_type": "markdown",
   "metadata": {},
   "source": [
    "# 5. Rock-paper-scissors"
   ]
  },
  {
   "cell_type": "markdown",
   "metadata": {},
   "source": [
    "*Learned Skills: Random choices*"
   ]
  },
  {
   "cell_type": "markdown",
   "metadata": {},
   "source": [
    "Implement the game of rock-paper-scissors. Extra: make it rock-paper-scissors-lizard-\n",
    "spock (if you do not know it, Wikipedia should help).\n",
    "\n",
    "**Useful:** $\\mathtt{random.choice()}$"
   ]
  },
  {
   "cell_type": "code",
   "execution_count": 11,
   "metadata": {
    "collapsed": false
   },
   "outputs": [
    {
     "name": "stdout",
     "output_type": "stream",
     "text": [
      "One, two, three... (type your choice: (r)ock,(p)aper,(s)cissors - any other key to end the game)\n",
      "p\n",
      "Computer plays: p\n",
      "Again.\n",
      "\n",
      "One, two, three... (type your choice: (r)ock,(p)aper,(s)cissors - any other key to end the game)\n",
      "s\n",
      "Computer plays: p\n",
      "Okay, you win.\n",
      "\n",
      "One, two, three... (type your choice: (r)ock,(p)aper,(s)cissors - any other key to end the game)\n",
      "r\n",
      "Computer plays: r\n",
      "Again.\n",
      "\n",
      "One, two, three... (type your choice: (r)ock,(p)aper,(s)cissors - any other key to end the game)\n",
      "p\n",
      "Computer plays: r\n",
      "Okay, you win.\n",
      "\n",
      "One, two, three... (type your choice: (r)ock,(p)aper,(s)cissors - any other key to end the game)\n",
      "c\n",
      "Game over.\n",
      "One, two, three... (type your choice: (r)ock,(p)aper,(s)cissors,(l)izard,spoc(k) - any other key to end the game)\n",
      "k\n",
      "Computer plays: l\n",
      "I win!\n",
      "\n",
      "One, two, three... (type your choice: (r)ock,(p)aper,(s)cissors,(l)izard,spoc(k) - any other key to end the game)\n",
      "u\n",
      "Game over.\n"
     ]
    }
   ],
   "source": [
    "from random import choice\n",
    "\n",
    "# Rock Paper Scissors\n",
    "\n",
    "choices = ('r','p','s')\n",
    "while 1:\n",
    "    userchoice = input(\"One, two, three... (type your choice: (r)ock,(p)aper,(s)cissors - any other key to end the game)\\n\")\n",
    "    if not userchoice in choices:\n",
    "        print(\"Game over.\")\n",
    "        break\n",
    "    else:\n",
    "        compchoice = choice(choices)\n",
    "        print(\"Computer plays: \" + compchoice)\n",
    "        if userchoice == compchoice:\n",
    "            print(\"Again.\\n\")\n",
    "        # note that due to shift symmetry of game rules one can avoid many if-statements\n",
    "        # a choice defeats its previous and is defeated by its followers\n",
    "        elif compchoice == choices[(choices.index(userchoice)+1)%3]:\n",
    "            print(\"I win!\\n\")\n",
    "        else:\n",
    "            print(\"Okay, you win.\\n\")\n",
    "\n",
    "    \n",
    "# Rock Paper Scissors Lizard Spock\n",
    "\n",
    "choices = ('r','k','p','l','s')\n",
    "while 1:\n",
    "    userchoice = input(\"One, two, three... (type your choice: (r)ock,(p)aper,(s)cissors,(l)izard,spoc(k) - any other key to end the game)\\n\")\n",
    "    if not userchoice in choices:\n",
    "        print(\"Game over.\")\n",
    "        break\n",
    "    else:\n",
    "        compchoice = choice(choices)\n",
    "        print(\"Computer plays: \" + compchoice)\n",
    "        if userchoice == compchoice:\n",
    "            print(\"Again.\\n\")\n",
    "        # note that due to shift symmetry of game rules one can avoid many if-statements\n",
    "        # a choice defeats its two previous and is defeated by the two followers\n",
    "        elif compchoice in (choices[(choices.index(userchoice)+1)%5], choices[(choices.index(userchoice)+2)%5]):\n",
    "            print(\"I win!\\n\")\n",
    "        else:\n",
    "            print(\"Okay, you win.\\n\")\n",
    "\n",
    "    \n"
   ]
  },
  {
   "cell_type": "markdown",
   "metadata": {},
   "source": [
    "# 6. Dice Simulation"
   ]
  },
  {
   "cell_type": "markdown",
   "metadata": {},
   "source": [
    "*Learned Skills: Random numbers; Monte-Carlo Simulation*"
   ]
  },
  {
   "cell_type": "markdown",
   "metadata": {},
   "source": [
    "Estimate the chance of an event in a dice game. What is the probability of getting\n",
    "at least one 6 when throwing two dice? This question can be analyzed theoretically\n",
    "by methods from probability theory. However, a more general alternative is to let a\n",
    "computer program throw two dice a large number of times and count how many times\n",
    "a 6 shows up. Such type of computer experiments, involving uncertain events, is often\n",
    "called Monte Carlo simulation."
   ]
  },
  {
   "cell_type": "markdown",
   "metadata": {},
   "source": [
    "1\\. Create a script that in a loop from 1 to $n$ draws two uniform random integers\n",
    "between 1 and 6 and counts how many times $p$ a 6 shows up. Write out the\n",
    "estimated probability $p/n$ together with the exact result 11/36. Run the script a\n",
    "few times with different n values and determine from the experiments how large\n",
    "n must be to get at least three decimals (0.306) of the probability correct. Use\n",
    "the random module to draw random uniformly distributed integers in a specified\n",
    "interval."
   ]
  },
  {
   "cell_type": "markdown",
   "metadata": {},
   "source": [
    "2\\. Generalize the script to an arbitrary number of dices, $N$."
   ]
  },
  {
   "cell_type": "markdown",
   "metadata": {},
   "source": [
    "3\\. Determine if you win or lose a hazard game. Somebody suggests the following\n",
    "game. You pay 1 unit of money and are allowed to throw four dice. If the sum of\n",
    "the eyes on the dice is less than 9, you win 10 units of money, otherwise you lose\n",
    "your investment. Should you play this game?"
   ]
  },
  {
   "cell_type": "code",
   "execution_count": 12,
   "metadata": {
    "collapsed": false
   },
   "outputs": [
    {
     "name": "stdout",
     "output_type": "stream",
     "text": [
      "How many iterations should I perform?\n",
      "3\n",
      "Estimated probability of getting a 6 if two dice are thrown: 0.666667 and exact result is: 0.305556\n",
      "How many dice should I roll?\n",
      "5\n",
      "How many iterations should I perform?\n",
      "5\n",
      "Estimated probability of getting a 6 if 5 dice are thrown: 0.600000 and exact result is: 0.598122\n",
      "How many repititions of the game do we play?\n",
      "1\n",
      "You lost 1 amount of money\n"
     ]
    }
   ],
   "source": [
    "#!/usr/bin/python\n",
    "\n",
    "from random import randint\n",
    "\n",
    "# Dice Simulation 1\n",
    "n = int(input(\"How many iterations should I perform?\\n\"))\n",
    "\n",
    "counter = 0\n",
    "for i in range(n):\n",
    "    dice1 = randint(1,6)\n",
    "    dice2 = randint(1,6)\n",
    "    if dice1 == 6 or dice2 == 6:\n",
    "        counter += 1\n",
    "\n",
    "print(\"Estimated probability of getting a 6 if two dice are thrown: %f and exact result is: %f\" % (float(counter)/n,11./36))\n",
    "# n = 100000 leads to a correct result up to 3 decimals.\n",
    "\n",
    "\n",
    "# Dice Simulation 2\n",
    "\n",
    "N = int(input(\"How many dice should I roll?\\n\"))\n",
    "n = int(input(\"How many iterations should I perform?\\n\"))\n",
    "\n",
    "counter = 0\n",
    "for i in range(n):\n",
    "    for j in range(N):\n",
    "        dice = randint(1,6)\n",
    "        if dice == 6:\n",
    "            counter += 1\n",
    "            break  # it is enough that one dice out of N gives a 6, that is how we have defined the event\n",
    "        \n",
    "# calculate the probability theoretical probability\n",
    "from math import factorial\n",
    "# using a list comprehension to produce a binomial distribution\n",
    "prob = sum([float(factorial(N))/(factorial(k)*factorial(N-k))*(1./6)**k * (5./6)**(N-k) for k in range(1,N+1)])\n",
    "print(\"Estimated probability of getting a 6 if %d dice are thrown: %f and exact result is: %f\" % (N,float(counter)/n, prob))\n",
    "\n",
    "\n",
    "# Dice Simulation 3\n",
    "\n",
    "n = int(input(\"How many repititions of the game do we play?\\n\"))\n",
    "\n",
    "money = 0\n",
    "for i in range(n):\n",
    "    if sum([randint(1,6) for i in range(4)]) < 9:\n",
    "        money += 10\n",
    "    else:\n",
    "        money -= 1\n",
    "        \n",
    "if money < 0:\n",
    "    print(\"You lost %d amount of money\" % (-money))\n",
    "else:\n",
    "    print(\"You won %d amount of money\" % (money))\n",
    "\n",
    "# You will lose on the long run, better not to play the game.\n",
    "\n"
   ]
  },
  {
   "cell_type": "markdown",
   "metadata": {},
   "source": [
    "# 7. Run an external script"
   ]
  },
  {
   "cell_type": "markdown",
   "metadata": {},
   "source": [
    "*Learned Skills: Calling external applications; List handling*"
   ]
  },
  {
   "cell_type": "markdown",
   "metadata": {},
   "source": [
    "1\\. Write a script runexternal.py that runs the dice-simulation developed in the last\n",
    "exercise as an external program for a range of parameters ($n$ and $N$ ). The parameters should be passed to the script as command-line parameters. Collect the result in a list that as each element contains a four-tuple ($N$ , $n$, result, analytical\n",
    "result).\n",
    "\n",
    "Note: You could of course just put a loop into the monte-carlo script. However,\n",
    "calling it as an external application gives you the opportunity to put any program\n",
    "instead of the Monte-Carlo script (say a compiled simulation program you got\n",
    "from a collegue).\n",
    "\n",
    "Use $\\mathtt{subprocess.call()}$ for calling the script. Note that the subprocess module is\n",
    "most appropriate to learn because this module intends to replace several other,\n",
    "older modules and functions, such as: $\\mathtt{os.system, \\, os.spawn.*, \\, os.popen.*, \\, popen2.* }$ and $\\mathtt{commands.*}$."
   ]
  },
  {
   "cell_type": "markdown",
   "metadata": {},
   "source": [
    "2\\. Output the result in a comma-separated (.csv) file."
   ]
  },
  {
   "cell_type": "markdown",
   "metadata": {},
   "source": [
    "3\\. Let $\\mathtt{run_external.py}$ take command line arguments that allow the user to specify\n",
    "ranges in MATLAB-style for which the external script should be called.\n",
    "E.g."
   ]
  },
  {
   "cell_type": "code",
   "execution_count": 27,
   "metadata": {
    "collapsed": false
   },
   "outputs": [
    {
     "ename": "SyntaxError",
     "evalue": "invalid syntax (<ipython-input-27-4884c06773a6>, line 1)",
     "output_type": "error",
     "traceback": [
      "\u001b[1;36m  File \u001b[1;32m\"<ipython-input-27-4884c06773a6>\"\u001b[1;36m, line \u001b[1;32m1\u001b[0m\n\u001b[1;33m    $ python run_external.py N=1:5 n=100:1000:10000\u001b[0m\n\u001b[1;37m    ^\u001b[0m\n\u001b[1;31mSyntaxError\u001b[0m\u001b[1;31m:\u001b[0m invalid syntax\n"
     ]
    }
   ],
   "source": [
    "$ python run_external.py N=1:5 n=100:1000:10000"
   ]
  },
  {
   "cell_type": "markdown",
   "metadata": {},
   "source": [
    "should run the script with any combination of $N = 1, 2, 3, 4, 5$ and $n = 100, 1100, 2100, \\dots$.\n",
    "\n",
    "Use the $\\mathtt{argparse}$ module to rewrite command-line parsing in $\\mathtt{runexternal.py}$\n",
    "from this exercise.\n",
    "\n",
    "*Hint:* A tutorial can be found at http://docs.python.org/2/howto/argparse.html"
   ]
  },
  {
   "cell_type": "code",
   "execution_count": 28,
   "metadata": {
    "collapsed": false
   },
   "outputs": [
    {
     "name": "stdout",
     "output_type": "stream",
     "text": [
      "Overwriting Dice_sim.py\n"
     ]
    }
   ],
   "source": [
    "%%writefile Dice_sim.py \n",
    "\n",
    "#!/usr/bin/python3\n",
    "\n",
    "from random import randint\n",
    "from sys import argv\n",
    "from math import factorial\n",
    "import csv\n",
    "\n",
    "# Run external script - Part 1\n",
    "\n",
    "# Check if 2 arguments are passed, otherwise stop execution\n",
    "# note that first argument is always the script name thus in total there are 3 arguments\n",
    "assert(len(argv) == 3)\n",
    "\n",
    "N = int(argv[1])\n",
    "n = int(argv[2])\n",
    "\n",
    "counter = 0\n",
    "for i in range(n):\n",
    "    for j in range(N):\n",
    "        dice = randint(1,6)\n",
    "        if dice == 6:\n",
    "            counter += 1\n",
    "            break  # it is enough that one dice out of N gives a 6, that is how we have defined the event\n",
    "        \n",
    "# calculate the probability theoretical probability\n",
    "# using a list comprehension to produce a binomial distribution\n",
    "prob = sum([float(factorial(N))/(factorial(k)*factorial(N-k))*(1./6)**k * (5./6)**(N-k) for k in range(1,N+1)])\n",
    "\n",
    "experiment = (N, n, float(counter)/n,prob)\n",
    "# print(results such that the external script can read them via stdout)\n",
    "print(experiment)\n",
    "\n",
    "# Run external script - Part 2\n",
    "csvfile = open(\"DiceExperiment_Results.csv\",\"a\")\n",
    "csv_output = csv.writer(csvfile)\n",
    "csv_output.writerow(experiment)\n",
    "csvfile.close()\n"
   ]
  },
  {
   "cell_type": "code",
   "execution_count": 29,
   "metadata": {
    "collapsed": false
   },
   "outputs": [
    {
     "name": "stdout",
     "output_type": "stream",
     "text": [
      "Overwriting run_external.py\n"
     ]
    }
   ],
   "source": [
    "%%writefile run_external.py\n",
    "#!/usr/bin/python3\n",
    "\n",
    "import subprocess as sp\n",
    "import os\n",
    "\n",
    "# note: script you call must be executable otherwise an error will be raised\n",
    "# use strip() to remove the newline character \\n\n",
    "script_result =  sp.check_output([\"python\", \"Dice_sim.py\", '5', '1000'], env={'PATH': os.environ['PATH']})\n",
    "\n",
    "# Run external script - Part 3\n",
    "from sys import argv\n",
    "import os\n",
    "# remove csv-file if already existing to save only new experiments\n",
    "if os.path.isfile('DiceExperiment_Results.csv'):\n",
    "    os.remove('DiceExperiment_Results.csv')\n",
    "    \n",
    "# Check if 2 arguments are passed, otherwise stop execution\n",
    "# note that first argument is always the script name thus in total there are 3 arguments\n",
    "assert(len(argv) == 3)\n",
    "\n",
    "arg1, arg2 = argv[1:]\n",
    "print(arg1 + \" aha\" + arg2)\n",
    "# get rid of initial N= and n= and extract numbers separated by colon\n",
    "# store the number list temporarily in variables\n",
    "tmp1 = arg1[2:].split(':')\n",
    "tmp2 = arg2[2:].split(':')\n",
    "\n",
    "print([\"und nun:\"] + tmp1 + tmp2)\n",
    "if len(tmp1) == 2:\n",
    "    N_list = range(int(tmp1[0]),int(tmp1[1])+1)\n",
    "else:\n",
    "    # add another step size to stopping value such that MATLAB behaviour is achived\n",
    "    N_list = range(int(tmp1[0]),int(tmp1[2])+int(tmp1[1]),int(tmp1[1]))\n",
    "\n",
    "if len(tmp2) == 2:\n",
    "    n_list = range(int(tmp2[0]),int(tmp2[1])+1)\n",
    "else:\n",
    "    # add another step size to stopping value such that MATLAB behaviour is achived\n",
    "    n_list = range(int(tmp2[0]),int(tmp2[2])+int(tmp2[1]),int(tmp2[1]))\n",
    "\n",
    "for N in N_list:\n",
    "    for n in n_list:\n",
    "        sp.call(['python', './Dice_sim.py', str(N), str(n)], env={'PATH': os.environ['PATH']})\n"
   ]
  },
  {
   "cell_type": "code",
   "execution_count": 26,
   "metadata": {
    "collapsed": false,
    "scrolled": true
   },
   "outputs": [
    {
     "name": "stdout",
     "output_type": "stream",
     "text": [
      "N=1:5 ahan=100:1000:10000\n",
      "['und nun:', '1', '5', '100', '1000', '10000']\n",
      "(1, 100, 0.16, 0.16666666666666666)\n",
      "(1, 1100, 0.14727272727272728, 0.16666666666666666)\n",
      "(1, 2100, 0.17761904761904762, 0.16666666666666666)\n",
      "(1, 3100, 0.1635483870967742, 0.16666666666666666)\n",
      "(1, 4100, 0.1626829268292683, 0.16666666666666666)\n",
      "(1, 5100, 0.1688235294117647, 0.16666666666666666)\n",
      "(1, 6100, 0.1659016393442623, 0.16666666666666666)\n",
      "(1, 7100, 0.15859154929577465, 0.16666666666666666)\n",
      "(1, 8100, 0.16407407407407407, 0.16666666666666666)\n",
      "(1, 9100, 0.17197802197802198, 0.16666666666666666)\n",
      "(1, 10100, 0.16386138613861387, 0.16666666666666666)\n",
      "(2, 100, 0.28, 0.3055555555555556)\n",
      "(2, 1100, 0.3054545454545455, 0.3055555555555556)\n",
      "(2, 2100, 0.3138095238095238, 0.3055555555555556)\n",
      "(2, 3100, 0.30032258064516126, 0.3055555555555556)\n",
      "(2, 4100, 0.31146341463414634, 0.3055555555555556)\n",
      "(2, 5100, 0.2923529411764706, 0.3055555555555556)\n",
      "(2, 6100, 0.3022950819672131, 0.3055555555555556)\n",
      "(2, 7100, 0.3084507042253521, 0.3055555555555556)\n",
      "(2, 8100, 0.3034567901234568, 0.3055555555555556)\n",
      "(2, 9100, 0.302967032967033, 0.3055555555555556)\n",
      "(2, 10100, 0.30415841584158415, 0.3055555555555556)\n",
      "(3, 100, 0.39, 0.4212962962962964)\n",
      "(3, 1100, 0.4263636363636364, 0.4212962962962964)\n",
      "(3, 2100, 0.4185714285714286, 0.4212962962962964)\n",
      "(3, 3100, 0.4264516129032258, 0.4212962962962964)\n",
      "(3, 4100, 0.42097560975609755, 0.4212962962962964)\n",
      "(3, 5100, 0.42745098039215684, 0.4212962962962964)\n",
      "(3, 6100, 0.42131147540983604, 0.4212962962962964)\n",
      "(3, 7100, 0.41661971830985917, 0.4212962962962964)\n",
      "(3, 8100, 0.4050617283950617, 0.4212962962962964)\n",
      "(3, 9100, 0.41912087912087914, 0.4212962962962964)\n",
      "(3, 10100, 0.42227722772277226, 0.4212962962962964)\n",
      "(4, 100, 0.44, 0.5177469135802469)\n",
      "(4, 1100, 0.5218181818181818, 0.5177469135802469)\n",
      "(4, 2100, 0.5152380952380953, 0.5177469135802469)\n",
      "(4, 3100, 0.5345161290322581, 0.5177469135802469)\n",
      "(4, 4100, 0.5187804878048781, 0.5177469135802469)\n",
      "(4, 5100, 0.5158823529411765, 0.5177469135802469)\n",
      "(4, 6100, 0.5195081967213114, 0.5177469135802469)\n",
      "(4, 7100, 0.5164788732394366, 0.5177469135802469)\n",
      "(4, 8100, 0.5088888888888888, 0.5177469135802469)\n",
      "(4, 9100, 0.5128571428571429, 0.5177469135802469)\n",
      "(4, 10100, 0.5156435643564357, 0.5177469135802469)\n",
      "(5, 100, 0.54, 0.5981224279835391)\n",
      "(5, 1100, 0.6118181818181818, 0.5981224279835391)\n",
      "(5, 2100, 0.6185714285714285, 0.5981224279835391)\n",
      "(5, 3100, 0.5938709677419355, 0.5981224279835391)\n",
      "(5, 4100, 0.5936585365853658, 0.5981224279835391)\n",
      "(5, 5100, 0.6082352941176471, 0.5981224279835391)\n",
      "(5, 6100, 0.6022950819672132, 0.5981224279835391)\n",
      "(5, 7100, 0.5990140845070423, 0.5981224279835391)\n",
      "(5, 8100, 0.5977777777777777, 0.5981224279835391)\n",
      "(5, 9100, 0.5894505494505494, 0.5981224279835391)\n",
      "(5, 10100, 0.5915841584158416, 0.5981224279835391)\n"
     ]
    }
   ],
   "source": [
    "!python run_external.py N=1:5 n=100:1000:10000"
   ]
  },
  {
   "cell_type": "markdown",
   "metadata": {},
   "source": [
    "# 8. Calculating a Histogram"
   ]
  },
  {
   "cell_type": "markdown",
   "metadata": {},
   "source": [
    "*Learned Skills: Creating a function; List handling; Random numbers*"
   ]
  },
  {
   "cell_type": "markdown",
   "metadata": {},
   "source": [
    "1\\. Write a function $\\mathtt{histgram(data, numbins)}$ which calculates the histogram of a\n",
    "given data set, where numbins gives the number of intervals in which the data\n",
    "range is divided.\n",
    "\n",
    "The function should return a tuple of two lists of equal lengths. The first list\n",
    "contains the midpoints of the intervals and the second list contains the counts of\n",
    "data points in the interval."
   ]
  },
  {
   "cell_type": "markdown",
   "metadata": {},
   "source": [
    "2\\. Give a pseudo-graphical representation of the distribution, by drawing a number of\n",
    "stars corresponding to the number of data elements in a given interval. Example:"
   ]
  },
  {
   "cell_type": "code",
   "execution_count": null,
   "metadata": {
    "collapsed": false
   },
   "outputs": [],
   "source": [
    "0.0\n",
    "0.5\n",
    "1.0\n",
    "1.5\n",
    "2.0\n",
    "2.5\n",
    "3.0\n",
    "3.5\n",
    "4.0\n",
    "\n",
    "***\n",
    "*****\n",
    "********\n",
    "******************\n",
    "*************\n",
    "**********\n",
    "********\n",
    "******\n",
    "**"
   ]
  },
  {
   "cell_type": "markdown",
   "metadata": {},
   "source": [
    "3\\. Test the function by drawing samples from different probability distributions from the package $\\mathtt{random}$."
   ]
  }
 ],
 "metadata": {
  "kernelspec": {
   "display_name": "Python 3",
   "language": "python",
   "name": "python3"
  },
  "language_info": {
   "codemirror_mode": {
    "name": "ipython",
    "version": 3
   },
   "file_extension": ".py",
   "mimetype": "text/x-python",
   "name": "python",
   "nbconvert_exporter": "python",
   "pygments_lexer": "ipython3",
   "version": "3.4.0"
  }
 },
 "nbformat": 4,
 "nbformat_minor": 0
}
