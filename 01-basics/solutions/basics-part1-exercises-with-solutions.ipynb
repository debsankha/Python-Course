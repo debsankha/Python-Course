{
 "cells": [
  {
   "cell_type": "markdown",
   "metadata": {},
   "source": [
    "# Simple Arithmetic"
   ]
  },
  {
   "cell_type": "markdown",
   "metadata": {},
   "source": [
    "Write the following expressions in python:\n",
    "\n",
    "$$ \\frac{2+2}{4} $$\n",
    "$$ \\left(\\frac{5-2}{3}\\right)^{25} $$\n",
    "$$(-1)^{3^3} + 2 ((3+3)\\cdot 10^4) (\\frac{1}{6}\\cdot 10^{-4}) $$\n",
    "If it is correct, they should evaluate to 1."
   ]
  },
  {
   "cell_type": "code",
   "execution_count": 10,
   "metadata": {
    "collapsed": false
   },
   "outputs": [
    {
     "data": {
      "text/plain": [
       "1.0"
      ]
     },
     "execution_count": 10,
     "metadata": {},
     "output_type": "execute_result"
    }
   ],
   "source": [
    "(2+2)/4"
   ]
  },
  {
   "cell_type": "code",
   "execution_count": 12,
   "metadata": {
    "collapsed": false
   },
   "outputs": [
    {
     "data": {
      "text/plain": [
       "1.0"
      ]
     },
     "execution_count": 12,
     "metadata": {},
     "output_type": "execute_result"
    }
   ],
   "source": [
    "((5-2)/3)**25"
   ]
  },
  {
   "cell_type": "code",
   "execution_count": 13,
   "metadata": {
    "collapsed": false
   },
   "outputs": [
    {
     "data": {
      "text/plain": [
       "1.0"
      ]
     },
     "execution_count": 13,
     "metadata": {},
     "output_type": "execute_result"
    }
   ],
   "source": [
    "(-1)**(3**3) + 2*((3+3)*10**4)*((1/6) * 10**(-4))"
   ]
  },
  {
   "cell_type": "markdown",
   "metadata": {},
   "source": [
    "Write a simpler expression which gives the same result as z for arbitrary values x and y."
   ]
  },
  {
   "cell_type": "code",
   "execution_count": 14,
   "metadata": {
    "collapsed": false
   },
   "outputs": [],
   "source": [
    "x = 11\n",
    "y = 3\n",
    "z = (y*(x//y))%y"
   ]
  },
  {
   "cell_type": "code",
   "execution_count": 17,
   "metadata": {
    "collapsed": false
   },
   "outputs": [],
   "source": [
    "#The result of the integer division by y is divisible by y, hence z is always zero.\n",
    "z = 0 "
   ]
  },
  {
   "cell_type": "markdown",
   "metadata": {},
   "source": [
    "# Conditions: If"
   ]
  },
  {
   "cell_type": "markdown",
   "metadata": {},
   "source": [
    "Use the input() function to ask a user to input a number. If the number equals \"5\", output \"My lucky number\". If the number is larger than 10, output \"What a large number!\". In all other cases, output \"That's not my lucky number.\""
   ]
  },
  {
   "cell_type": "code",
   "execution_count": 21,
   "metadata": {
    "collapsed": false
   },
   "outputs": [
    {
     "name": "stdout",
     "output_type": "stream",
     "text": [
      "Please enter a number: 11\n",
      "What a large number!\n"
     ]
    }
   ],
   "source": [
    "number = int(input(\"Please enter a number: \"))\n",
    "if number == 5:\n",
    "    print(\"My lucky number.\")\n",
    "elif number > 10:\n",
    "    print(\"What a large number!\")\n",
    "else:\n",
    "    print(\"That'n not my lucky number.\")"
   ]
  },
  {
   "cell_type": "markdown",
   "metadata": {},
   "source": [
    "# Conditions: while"
   ]
  },
  {
   "cell_type": "markdown",
   "metadata": {
    "collapsed": false
   },
   "source": [
    "The code below sets x to a random number between 0 and 100. Write a while-loop which repeatedly asks the user to guess x untill the answer is correct. If the answer is not correct, the programm tells the user whether the guess was smaller or greater than x. "
   ]
  },
  {
   "cell_type": "code",
   "execution_count": 22,
   "metadata": {
    "collapsed": false
   },
   "outputs": [
    {
     "name": "stdout",
     "output_type": "stream",
     "text": [
      "guess the number: 50\n",
      "No, the number is larger.\n",
      "guess the number: 60\n",
      "No, the number is larger.\n",
      "guess the number: 70\n",
      "No, the number is larger.\n",
      "guess the number: 80\n",
      "No, the number is larger.\n",
      "guess the number: 90\n",
      "No, the number is smaller.\n",
      "guess the number: 88\n",
      "No, the number is smaller.\n",
      "guess the number: 85\n",
      "No, the number is smaller.\n",
      "guess the number: 83\n",
      "Correct!\n"
     ]
    }
   ],
   "source": [
    "import random\n",
    "x = random.randint(0,100)\n",
    "\n",
    "while True:\n",
    "    guess = int(input(\"guess the number: \"))\n",
    "    if guess == x:\n",
    "        print(\"Correct!\")\n",
    "        break\n",
    "    elif guess > x:\n",
    "        print(\"No, the number is smaller.\")\n",
    "    elif guess < x:\n",
    "        print(\"No, the number is larger.\")"
   ]
  },
  {
   "cell_type": "markdown",
   "metadata": {},
   "source": [
    "The [Bisection method](https://en.wikipedia.org/wiki/Bisection_method) is a simple way to numerically solve an equation $f(x)=0$. The input of the algorithm is an interval $[a,b]$, where $f(a)$ and $f(b)$ have different signs, which means that the solution is somewhere is this interval. Then it computes the middle of the interval $c=\\frac{a+b}{2}$. If $f(a)\\cdot f(c)<0$ set the new interval to $[a,c]$, if $f(c)\\cdot f(b)<0$ set the new interval to $[c,b]$. Write a while-loop which repeats this bisection untill the error is smaller than given tolerance, e.g. $b-a<10^{-7}$. \n",
    "\n",
    "As an example, you could try to solve $\\sin(x)=\\log(x)$. The solution is somewhere between $x=0$ and $x=5$. The functions are available if you execute:\n",
    "from math import sin, log"
   ]
  },
  {
   "cell_type": "code",
   "execution_count": 40,
   "metadata": {
    "collapsed": false
   },
   "outputs": [
    {
     "name": "stdout",
     "output_type": "stream",
     "text": [
      "Final interval:  2.219107122868298 2.2191071972250924\n"
     ]
    }
   ],
   "source": [
    "from math import sin, log\n",
    "tolerance = 1e-7\n",
    "a = 0.01\n",
    "b = 5\n",
    "while b-a>tolerance:\n",
    "    c = 0.5*(a+b)\n",
    "    if (sin(a)-log(a))*(sin(c)-log(c)) < 0:\n",
    "        b = c\n",
    "    else:\n",
    "        a = c\n",
    "print(\"Final interval: \",a,b)"
   ]
  },
  {
   "cell_type": "code",
   "execution_count": null,
   "metadata": {
    "collapsed": false
   },
   "outputs": [],
   "source": []
  },
  {
   "cell_type": "markdown",
   "metadata": {},
   "source": [
    "# For-loops"
   ]
  },
  {
   "cell_type": "markdown",
   "metadata": {},
   "source": [
    "Write a for-loop which prints the items of a sequence in reversed order."
   ]
  },
  {
   "cell_type": "code",
   "execution_count": 25,
   "metadata": {
    "collapsed": false
   },
   "outputs": [
    {
     "name": "stdout",
     "output_type": "stream",
     "text": [
      "!\n",
      "e\n",
      "m\n",
      " \n",
      "e\n",
      "s\n",
      "r\n",
      "e\n",
      "v\n",
      "e\n",
      "r\n"
     ]
    }
   ],
   "source": [
    "seq = 'reverse me!'\n",
    "for i in range(len(seq)):\n",
    "    print(seq[-i-1])"
   ]
  },
  {
   "cell_type": "markdown",
   "metadata": {},
   "source": [
    "Write a for-loop which finds the minimum and the maximum value of a sequence of numbers."
   ]
  },
  {
   "cell_type": "code",
   "execution_count": 27,
   "metadata": {
    "collapsed": false
   },
   "outputs": [
    {
     "name": "stdout",
     "output_type": "stream",
     "text": [
      "The minimum is:  0\n",
      "The maximum is:  56\n"
     ]
    }
   ],
   "source": [
    "seq = [5,3,7,3,56,8,0,6,2]\n",
    "minimum = None\n",
    "maximum = None\n",
    "\n",
    "for s in seq:\n",
    "    if minimum is None or s<minimum:\n",
    "        minimum = s\n",
    "    if maximum is None or s>maximum:\n",
    "        maximum = s\n",
    "print(\"The minimum is: \", minimum)\n",
    "print(\"The maximum is: \", maximum)"
   ]
  },
  {
   "cell_type": "markdown",
   "metadata": {},
   "source": [
    "Implement the [Bubble Sort](https://en.wikipedia.org/wiki/Bubble_sort) algorithm to sort a list of numbers.\n",
    "Starting from the beginning of the list, compare every adjacent pair, swap their position if they are not in the right order. After each iteration, one less element (the last one) is needed to be compared until there are no more elements left to be compared."
   ]
  },
  {
   "cell_type": "code",
   "execution_count": 31,
   "metadata": {
    "collapsed": false
   },
   "outputs": [
    {
     "name": "stdout",
     "output_type": "stream",
     "text": [
      "[0, 2, 3, 3, 5, 6, 7, 8, 56]\n"
     ]
    }
   ],
   "source": [
    "seq = [5,3,7,3,56,8,0,6,2]\n",
    "\n",
    "for i in range(len(seq)):\n",
    "    for j in range(len(seq)-i-1):\n",
    "        if seq[j]>seq[j+1]:\n",
    "            seq[j],seq[j+1] = seq[j+1],seq[j]\n",
    "print(seq)"
   ]
  },
  {
   "cell_type": "markdown",
   "metadata": {},
   "source": [
    "The [Golden ratio](https://en.wikipedia.org/wiki/Golden_ratio) can be calculated by a continued fraction:\n",
    "\n",
    "\\begin{align}\n",
    "\\varphi = 1 + \\cfrac{1}{1 + \\cfrac{1}{1 + \\cfrac{1}{1 + \\cfrac{1}{1 + \\ddots}}}}\n",
    "\\end{align}\n",
    "\n",
    "Write a for-loop which evaluates this equation untill the 1000'th fraction."
   ]
  },
  {
   "cell_type": "code",
   "execution_count": 32,
   "metadata": {
    "collapsed": false
   },
   "outputs": [
    {
     "name": "stdout",
     "output_type": "stream",
     "text": [
      "1.618033988749895\n"
     ]
    }
   ],
   "source": [
    "value = 1\n",
    "for i in range(1000):\n",
    "    value = 1/(1+value)\n",
    "print(1+value)"
   ]
  },
  {
   "cell_type": "markdown",
   "metadata": {},
   "source": [
    "# List slicing"
   ]
  },
  {
   "cell_type": "markdown",
   "metadata": {},
   "source": [
    "Use the string given below and slices to print 'Lorem ipsum', 'elit', 'Lrmism', and 'muspi meroL'."
   ]
  },
  {
   "cell_type": "code",
   "execution_count": 21,
   "metadata": {
    "collapsed": false
   },
   "outputs": [],
   "source": [
    "s = \"Lorem ipsum dolor sit amet, consectetur adipiscing elit.\""
   ]
  },
  {
   "cell_type": "code",
   "execution_count": 35,
   "metadata": {
    "collapsed": false
   },
   "outputs": [
    {
     "name": "stdout",
     "output_type": "stream",
     "text": [
      "Lorem ipsum\n",
      "elit\n",
      "Lrmism\n",
      "muspi meroL\n"
     ]
    }
   ],
   "source": [
    "print(s[:11])\n",
    "print(s[-5:-1])\n",
    "print(s[:11:2])\n",
    "print(s[10::-1])"
   ]
  },
  {
   "cell_type": "code",
   "execution_count": null,
   "metadata": {
    "collapsed": false
   },
   "outputs": [],
   "source": []
  },
  {
   "cell_type": "markdown",
   "metadata": {},
   "source": [
    "# List comprehensions"
   ]
  },
  {
   "cell_type": "markdown",
   "metadata": {},
   "source": [
    "Create a list $[x_0,x_1,x_2,...]$ where $x_n = 2^x$."
   ]
  },
  {
   "cell_type": "code",
   "execution_count": 41,
   "metadata": {
    "collapsed": false
   },
   "outputs": [
    {
     "name": "stdout",
     "output_type": "stream",
     "text": [
      "[1, 2, 4, 8, 16, 32, 64, 128, 256, 512]\n"
     ]
    }
   ],
   "source": [
    "print([2**x for x in range(10)])"
   ]
  },
  {
   "cell_type": "markdown",
   "metadata": {},
   "source": [
    "Create a list containing all numbers between 0 and 100 which are divisible by 3 and 4 but not divisible by 10."
   ]
  },
  {
   "cell_type": "code",
   "execution_count": 42,
   "metadata": {
    "collapsed": false
   },
   "outputs": [
    {
     "name": "stdout",
     "output_type": "stream",
     "text": [
      "[12, 24, 36, 48, 72, 84, 96]\n"
     ]
    }
   ],
   "source": [
    "print([x for x in range(100) if x%3==0 and x%4==0 and not x%10==0])"
   ]
  },
  {
   "cell_type": "markdown",
   "metadata": {},
   "source": [
    "Create a list $[x_0,x_1,x_2,...]$ where $x_n=\\sum_{i=0}^{n} n$. Hint: Use a nested list comprehension and the sum()-function."
   ]
  },
  {
   "cell_type": "code",
   "execution_count": 45,
   "metadata": {
    "collapsed": false
   },
   "outputs": [
    {
     "name": "stdout",
     "output_type": "stream",
     "text": [
      "[0, 1, 3, 6, 10, 15, 21, 28, 36, 45, 55, 66, 78, 91, 105, 120, 136, 153, 171, 190]\n"
     ]
    }
   ],
   "source": [
    "print([sum([n2 for n2 in range(n1+1)]) for n1 in range(20)])"
   ]
  },
  {
   "cell_type": "markdown",
   "metadata": {},
   "source": [
    "# Outlook"
   ]
  },
  {
   "cell_type": "code",
   "execution_count": 71,
   "metadata": {
    "collapsed": true
   },
   "outputs": [],
   "source": [
    "import antigravity"
   ]
  },
  {
   "cell_type": "code",
   "execution_count": null,
   "metadata": {
    "collapsed": true
   },
   "outputs": [],
   "source": []
  },
  {
   "cell_type": "code",
   "execution_count": null,
   "metadata": {
    "collapsed": true
   },
   "outputs": [],
   "source": []
  }
 ],
 "metadata": {
  "kernelspec": {
   "display_name": "Python 3",
   "language": "python",
   "name": "python3"
  },
  "language_info": {
   "codemirror_mode": {
    "name": "ipython",
    "version": 3
   },
   "file_extension": ".py",
   "mimetype": "text/x-python",
   "name": "python",
   "nbconvert_exporter": "python",
   "pygments_lexer": "ipython3",
   "version": "3.4.3"
  }
 },
 "nbformat": 4,
 "nbformat_minor": 0
}
