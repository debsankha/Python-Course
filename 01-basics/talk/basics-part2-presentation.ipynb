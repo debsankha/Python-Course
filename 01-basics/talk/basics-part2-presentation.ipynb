{
 "metadata": {
  "name": ""
 },
 "nbformat": 3,
 "nbformat_minor": 0,
 "worksheets": [
  {
   "cells": [
    {
     "cell_type": "code",
     "collapsed": false,
     "input": [
      "from __future__ import print_function\n",
      "# $ ipython nbconvert --to slides --post serve python_introduction_ii.ipynb "
     ],
     "language": "python",
     "metadata": {
      "slideshow": {
       "slide_type": "notes"
      }
     },
     "outputs": [],
     "prompt_number": 55
    },
    {
     "cell_type": "markdown",
     "metadata": {
      "slideshow": {
       "slide_type": "slide"
      }
     },
     "source": [
      "##Yesterday some basic python features were introduced\n",
      "\n"
     ]
    },
    {
     "cell_type": "markdown",
     "metadata": {
      "slideshow": {
       "slide_type": "fragment"
      }
     },
     "source": [
      "1. variables, assignments & data types\n",
      "    * int, float, str \n",
      "2. arithmetic\n",
      "    * +, -, *, /, %\n",
      "3. control statements\n",
      "    * If ... else ..\n",
      "    * While\n",
      "    * break, continue\n",
      "    \n",
      "4. sequences & for-loops\n",
      "\n",
      "5. lists and tuples \n",
      "    * mutable and unmutable\n",
      "\n",
      "\n"
     ]
    },
    {
     "cell_type": "markdown",
     "metadata": {
      "slideshow": {
       "slide_type": "slide"
      }
     },
     "source": [
      "##Today...\n",
      "\n",
      "7. string operations\n",
      "\n",
      "5. dictionaries\n",
      "\n",
      "9. functions\n",
      "\n",
      "6. modules\n",
      "\n",
      "10. understanding reference semantics"
     ]
    },
    {
     "cell_type": "markdown",
     "metadata": {
      "slideshow": {
       "slide_type": "slide"
      }
     },
     "source": [
      "#Strings"
     ]
    },
    {
     "cell_type": "markdown",
     "metadata": {
      "slideshow": {
       "slide_type": "fragment"
      }
     },
     "source": [
      "`x = \"don't read it\"`\n",
      "\n",
      "* `\"...\", '...', '''...''', \"\"\"...\"\"\"`\n",
      "\n",
      "* array of characters\n",
      "\n",
      "    - slicing: \n",
      "    \n",
      "        `x[ <start> : <end> : <step> ]`\n",
      "        \n",
      "* unmutable"
     ]
    },
    {
     "cell_type": "markdown",
     "metadata": {
      "slideshow": {
       "slide_type": "fragment"
      }
     },
     "source": [
      "###hands on!"
     ]
    },
    {
     "cell_type": "code",
     "collapsed": false,
     "input": [
      "myStr = 'star'"
     ],
     "language": "python",
     "metadata": {
      "slideshow": {
       "slide_type": "fragment"
      }
     },
     "outputs": [],
     "prompt_number": 1
    },
    {
     "cell_type": "code",
     "collapsed": false,
     "input": [],
     "language": "python",
     "metadata": {
      "slideshow": {
       "slide_type": "fragment"
      }
     },
     "outputs": []
    },
    {
     "cell_type": "markdown",
     "metadata": {
      "slideshow": {
       "slide_type": "slide"
      }
     },
     "source": [
      "##String operations"
     ]
    },
    {
     "cell_type": "code",
     "collapsed": false,
     "input": [
      "x = \"don't read it\"\n",
      "x.upper()"
     ],
     "language": "python",
     "metadata": {
      "slideshow": {
       "slide_type": "fragment"
      }
     },
     "outputs": [
      {
       "metadata": {},
       "output_type": "pyout",
       "prompt_number": 75,
       "text": [
        "\"DON'T READ IT\""
       ]
      }
     ],
     "prompt_number": 75
    },
    {
     "cell_type": "markdown",
     "metadata": {
      "slideshow": {
       "slide_type": "fragment"
      }
     },
     "source": [
      "* strings have many methods:\n",
      "\n",
      "    - `count, split, endswith, find, center, index, replace ...`\n",
      "    \n",
      "    - check the **Python documentation** for many other handy string operations\n",
      "    \n",
      "* Helpful hint:  `<string>.strip()` strip's off final newlines from lines read from files"
     ]
    },
    {
     "cell_type": "markdown",
     "metadata": {
      "slideshow": {
       "slide_type": "slide"
      }
     },
     "source": [
      "##Printing with Python"
     ]
    },
    {
     "cell_type": "code",
     "collapsed": false,
     "input": [
      "x = 3.14159\n",
      "\n",
      "print( 'pi : %.4f, %e'%(x, 3.14159) )"
     ],
     "language": "python",
     "metadata": {
      "slideshow": {
       "slide_type": "fragment"
      }
     },
     "outputs": [
      {
       "output_type": "stream",
       "stream": "stdout",
       "text": [
        "pi : 3.1416, 3.141590e+00, 3.14159\n"
       ]
      }
     ],
     "prompt_number": 25
    },
    {
     "cell_type": "markdown",
     "metadata": {
      "slideshow": {
       "slide_type": "slide"
      }
     },
     "source": [
      "##%\n",
      "\n",
      "* `print` analog to `sprintf` from C:*\n",
      "\n",
      "* Integer\t\t\t\t\t`%d`\n",
      "\n",
      "* Decimal floating point \t\t`%f`\n",
      "\n",
      "* Scientific notation \t\t\t`%e`\n",
      "\n",
      "* Strings\t\t\t\t\t`%s`\n",
      "\n",
      "* Newline\t\t\t\t\t`\\n`"
     ]
    },
    {
     "cell_type": "markdown",
     "metadata": {
      "slideshow": {
       "slide_type": "slide"
      }
     },
     "source": [
      "###Pythonist printing\n",
      "\n",
      "find a nice tutorial [here](http://www.python-course.eu/python3_formatted_output.php)"
     ]
    },
    {
     "cell_type": "code",
     "collapsed": false,
     "input": [
      "x = 3.14159\n",
      "\n",
      "print( 'number : {:.2f} \\n\\t   x 2 = {:3.2f}\\n\\t   x 3 = {:3.2f}'.format(x, x*2, x*3) )"
     ],
     "language": "python",
     "metadata": {
      "slideshow": {
       "slide_type": "fragment"
      }
     },
     "outputs": [
      {
       "output_type": "stream",
       "stream": "stdout",
       "text": [
        "number : 3.14 \n",
        "\t   x 2 = 6.28\n",
        "\t   x 3 = 9.42\n"
       ]
      }
     ],
     "prompt_number": 41
    },
    {
     "cell_type": "code",
     "collapsed": false,
     "input": [
      "x = 3.14159\n",
      "print('pi:\\t{a:.2f}\\t{a:.3e}'.format(a=x) )\n"
     ],
     "language": "python",
     "metadata": {
      "slideshow": {
       "slide_type": "fragment"
      }
     },
     "outputs": [
      {
       "output_type": "stream",
       "stream": "stdout",
       "text": [
        "pi:\t3.14\t3.142e+00\n"
       ]
      }
     ],
     "prompt_number": 39
    },
    {
     "cell_type": "markdown",
     "metadata": {
      "slideshow": {
       "slide_type": "slide"
      }
     },
     "source": [
      "#Dictionaries"
     ]
    },
    {
     "cell_type": "markdown",
     "metadata": {
      "slideshow": {
       "slide_type": "fragment"
      }
     },
     "source": [
      "* mapping between `keys` and `values`\n",
      "\n",
      "    * `keys` can be any immutable type\n",
      "\n",
      "    * `values` can be any type\n",
      "\n",
      "* A single dictionary can store values of different types\n",
      "\n",
      "* You can:\n",
      "\n",
      "    - modify it\n",
      "            \n",
      "    - delete the key-value pairs in the dictionary\n",
      "   "
     ]
    },
    {
     "cell_type": "markdown",
     "metadata": {
      "slideshow": {
       "slide_type": "fragment"
      }
     },
     "source": [
      "Creating a dictionary"
     ]
    },
    {
     "cell_type": "code",
     "collapsed": false,
     "input": [
      "di = {'a' : 1, 'b' : 'hey'}"
     ],
     "language": "python",
     "metadata": {
      "slideshow": {
       "slide_type": "fragment"
      }
     },
     "outputs": [],
     "prompt_number": 2
    },
    {
     "cell_type": "markdown",
     "metadata": {
      "slideshow": {
       "slide_type": "fragment"
      }
     },
     "source": [
      "Accessing the elements of a dictionary"
     ]
    },
    {
     "cell_type": "code",
     "collapsed": false,
     "input": [
      "print(di.keys(), di.values(), di.items())"
     ],
     "language": "python",
     "metadata": {
      "slideshow": {
       "slide_type": "fragment"
      }
     },
     "outputs": [
      {
       "output_type": "stream",
       "stream": "stdout",
       "text": [
        "(['a', 'b'], [1, 'hey'], [('a', 1), ('b', 'hey')])\n"
       ]
      }
     ],
     "prompt_number": 3
    },
    {
     "cell_type": "markdown",
     "metadata": {
      "slideshow": {
       "slide_type": "fragment"
      }
     },
     "source": [
      "Updating dictionaries"
     ]
    },
    {
     "cell_type": "code",
     "collapsed": false,
     "input": [
      "di[1]='one'\n",
      "print(di)"
     ],
     "language": "python",
     "metadata": {
      "slideshow": {
       "slide_type": "fragment"
      }
     },
     "outputs": [
      {
       "output_type": "stream",
       "stream": "stdout",
       "text": [
        "{'a': 1, 1: 'one', 'b': 'hey'}\n"
       ]
      }
     ],
     "prompt_number": 4
    },
    {
     "cell_type": "markdown",
     "metadata": {
      "slideshow": {
       "slide_type": "fragment"
      }
     },
     "source": [
      "Removing dictionary entries"
     ]
    },
    {
     "cell_type": "code",
     "collapsed": false,
     "input": [
      "del di[1] # one antry\n",
      "di.clear() # the whole dictionary"
     ],
     "language": "python",
     "metadata": {
      "slideshow": {
       "slide_type": "fragment"
      }
     },
     "outputs": []
    },
    {
     "cell_type": "markdown",
     "metadata": {
      "slideshow": {
       "slide_type": "fragment"
      }
     },
     "source": [
      "###hands on!\n",
      "\n",
      "Create a dictionary with ages of your nearest neighbors"
     ]
    },
    {
     "cell_type": "code",
     "collapsed": false,
     "input": [],
     "language": "python",
     "metadata": {
      "slideshow": {
       "slide_type": "fragment"
      }
     },
     "outputs": []
    },
    {
     "cell_type": "markdown",
     "metadata": {
      "slideshow": {
       "slide_type": "slide"
      }
     },
     "source": [
      "#Functions\n",
      "\n"
     ]
    },
    {
     "cell_type": "markdown",
     "metadata": {
      "slideshow": {
       "slide_type": "fragment"
      }
     },
     "source": [
      "<img src=\"files/./images/functionAnatomy.png\">"
     ]
    },
    {
     "cell_type": "code",
     "collapsed": false,
     "input": [
      "def myDivision(x,y):\n",
      "    \"\"\"\n",
      "    this function returns x divided by y\n",
      "    \"\"\"  \n",
      "    return 1.0*x/y"
     ],
     "language": "python",
     "metadata": {
      "slideshow": {
       "slide_type": "fragment"
      }
     },
     "outputs": [],
     "prompt_number": 30
    },
    {
     "cell_type": "markdown",
     "metadata": {
      "slideshow": {
       "slide_type": "fragment"
      }
     },
     "source": [
      "Functions are specified by their name"
     ]
    },
    {
     "cell_type": "code",
     "collapsed": false,
     "input": [
      "myDivision(3,2)"
     ],
     "language": "python",
     "metadata": {
      "slideshow": {
       "slide_type": "fragment"
      }
     },
     "outputs": [
      {
       "metadata": {},
       "output_type": "pyout",
       "prompt_number": 31,
       "text": [
        "1.5"
       ]
      }
     ],
     "prompt_number": 31
    },
    {
     "cell_type": "markdown",
     "metadata": {
      "slideshow": {
       "slide_type": "fragment"
      }
     },
     "source": [
      "They can pass their functionality (change name)"
     ]
    },
    {
     "cell_type": "code",
     "collapsed": false,
     "input": [
      "theDivision = myDivision\n",
      "theDivision(2,2)"
     ],
     "language": "python",
     "metadata": {
      "slideshow": {
       "slide_type": "fragment"
      }
     },
     "outputs": [
      {
       "metadata": {},
       "output_type": "pyout",
       "prompt_number": 32,
       "text": [
        "1.0"
       ]
      }
     ],
     "prompt_number": 32
    },
    {
     "cell_type": "markdown",
     "metadata": {
      "slideshow": {
       "slide_type": "fragment"
      }
     },
     "source": [
      "The documentation string"
     ]
    },
    {
     "cell_type": "code",
     "collapsed": false,
     "input": [
      "help(myDivision)"
     ],
     "language": "python",
     "metadata": {
      "slideshow": {
       "slide_type": "fragment"
      }
     },
     "outputs": [
      {
       "output_type": "stream",
       "stream": "stdout",
       "text": [
        "Help on function myDivision in module __main__:\n",
        "\n",
        "myDivision(x, y)\n",
        "    this function returns the producto of x and y\n",
        "\n"
       ]
      }
     ],
     "prompt_number": 34
    },
    {
     "cell_type": "markdown",
     "metadata": {
      "slideshow": {
       "slide_type": "fragment"
      }
     },
     "source": [
      "Useful function statement \n",
      "\n",
      "`assert(x > 0)`, makes sure that the argument is positive"
     ]
    },
    {
     "cell_type": "code",
     "collapsed": false,
     "input": [
      "def myDivision(x,y):\n",
      "    \"\"\"\n",
      "    this function returns x divided by y\n",
      "    \"\"\"  \n",
      "    assert(abs(y)>0), \"y cannot be zero!\"\n",
      "    return x/y"
     ],
     "language": "python",
     "metadata": {
      "slideshow": {
       "slide_type": "fragment"
      }
     },
     "outputs": [],
     "prompt_number": 38
    },
    {
     "cell_type": "code",
     "collapsed": false,
     "input": [
      "myDivision(1,0)"
     ],
     "language": "python",
     "metadata": {
      "slideshow": {
       "slide_type": "fragment"
      }
     },
     "outputs": [
      {
       "ename": "AssertionError",
       "evalue": "y cannot be zero!",
       "output_type": "pyerr",
       "traceback": [
        "\u001b[0;31m---------------------------------------------------------------------------\u001b[0m\n\u001b[0;31mAssertionError\u001b[0m                            Traceback (most recent call last)",
        "\u001b[0;32m<ipython-input-39-d95d8ac0d467>\u001b[0m in \u001b[0;36m<module>\u001b[0;34m()\u001b[0m\n\u001b[0;32m----> 1\u001b[0;31m \u001b[0mmyDivision\u001b[0m\u001b[0;34m(\u001b[0m\u001b[0;36m1\u001b[0m\u001b[0;34m,\u001b[0m\u001b[0;36m0\u001b[0m\u001b[0;34m)\u001b[0m\u001b[0;34m\u001b[0m\u001b[0m\n\u001b[0m",
        "\u001b[0;32m<ipython-input-38-fd7e64f9f3ad>\u001b[0m in \u001b[0;36mmyDivision\u001b[0;34m(x, y)\u001b[0m\n\u001b[1;32m      3\u001b[0m     \u001b[0mthis\u001b[0m \u001b[0mfunction\u001b[0m \u001b[0mreturns\u001b[0m \u001b[0mthe\u001b[0m \u001b[0mproducto\u001b[0m \u001b[0mof\u001b[0m \u001b[0mx\u001b[0m \u001b[0;32mand\u001b[0m \u001b[0my\u001b[0m\u001b[0;34m\u001b[0m\u001b[0m\n\u001b[1;32m      4\u001b[0m     \"\"\"  \n\u001b[0;32m----> 5\u001b[0;31m     \u001b[0;32massert\u001b[0m\u001b[0;34m(\u001b[0m\u001b[0mabs\u001b[0m\u001b[0;34m(\u001b[0m\u001b[0my\u001b[0m\u001b[0;34m)\u001b[0m\u001b[0;34m>\u001b[0m\u001b[0;36m0\u001b[0m\u001b[0;34m)\u001b[0m\u001b[0;34m,\u001b[0m \u001b[0;34m\"y cannot be zero!\"\u001b[0m\u001b[0;34m\u001b[0m\u001b[0m\n\u001b[0m\u001b[1;32m      6\u001b[0m     \u001b[0;32mreturn\u001b[0m \u001b[0mx\u001b[0m\u001b[0;34m/\u001b[0m\u001b[0my\u001b[0m\u001b[0;34m\u001b[0m\u001b[0m\n",
        "\u001b[0;31mAssertionError\u001b[0m: y cannot be zero!"
       ]
      }
     ],
     "prompt_number": 39
    },
    {
     "cell_type": "markdown",
     "metadata": {
      "slideshow": {
       "slide_type": "fragment"
      }
     },
     "source": [
      "###hands on!\n",
      "\n",
      "Create a function that transforms Earth years into Martian years"
     ]
    },
    {
     "cell_type": "code",
     "collapsed": false,
     "input": [],
     "language": "python",
     "metadata": {},
     "outputs": []
    },
    {
     "cell_type": "markdown",
     "metadata": {
      "slideshow": {
       "slide_type": "slide"
      }
     },
     "source": [
      "##Default values\n",
      "\n",
      "calling a function with default values"
     ]
    },
    {
     "cell_type": "code",
     "collapsed": false,
     "input": [
      "def myfun(x=2,y=5):   \n",
      "    return x*y"
     ],
     "language": "python",
     "metadata": {
      "slideshow": {
       "slide_type": "fragment"
      }
     },
     "outputs": [],
     "prompt_number": 43
    },
    {
     "cell_type": "markdown",
     "metadata": {
      "slideshow": {
       "slide_type": "fragment"
      }
     },
     "source": [
      "`myfun()`\n",
      "\n",
      "`myfun(10)`\n",
      "\n",
      "`myfun(y=10)`"
     ]
    },
    {
     "cell_type": "markdown",
     "metadata": {
      "slideshow": {
       "slide_type": "slide"
      }
     },
     "source": [
      "##Functions without returns\n",
      "\n",
      "\n",
      "* all functions in Python have a return value \n",
      "\n",
      "    - even if no return line inside the code\n",
      "\n",
      "* functions without a return return the special value `None`\n",
      "\n",
      "    * `None` is a special constant in the language.\n",
      "\n",
      "    * `None` is used like NULL or void in other languages.\n",
      "\n",
      "    * The interpreter doesn\u2019t print `None`"
     ]
    },
    {
     "cell_type": "code",
     "collapsed": false,
     "input": [
      "def fun(x,y):\n",
      "    ''' bla bla'''\n",
      "\n",
      "x = fun(1,2)\n",
      "print(\"'x'=\", x)\n",
      "x"
     ],
     "language": "python",
     "metadata": {
      "slideshow": {
       "slide_type": "fragment"
      }
     },
     "outputs": [
      {
       "output_type": "stream",
       "stream": "stdout",
       "text": [
        "'x'= None\n"
       ]
      }
     ],
     "prompt_number": 56
    },
    {
     "cell_type": "markdown",
     "metadata": {
      "slideshow": {
       "slide_type": "slide"
      }
     },
     "source": [
      "###Function overloading? No\n",
      "\n",
      "* Unlike C++, a Python function is specified by its name alone\n",
      "\n",
      "    * The number, order, names, or types of its arguments cannot be used to distinguish between two functions with the same name.\n",
      "    \n",
      "* Two different functions can\u2019t have the same name, even if they have different arguments.\n",
      "\n",
      "* (But: see operator overloading)\n"
     ]
    },
    {
     "cell_type": "markdown",
     "metadata": {
      "slideshow": {
       "slide_type": "slide"
      }
     },
     "source": [
      "###Functions are first-class objects in Python\n",
      "\n",
      "\n",
      "They can be: \n",
      "\n",
      "* Arguments to function\n",
      "\n",
      "* Return values of functions\n",
      "\n",
      "* Assigned to variables, \n",
      "\n",
      "* Parts of tuples, lists\n",
      "\n",
      "* \u2026"
     ]
    },
    {
     "cell_type": "code",
     "collapsed": false,
     "input": [
      "def myfun(x):\n",
      "    return x*3\n",
      "\n",
      "def applier(q, y):\n",
      "    return q(y)"
     ],
     "language": "python",
     "metadata": {
      "slideshow": {
       "slide_type": "fragment"
      }
     },
     "outputs": [],
     "prompt_number": 60
    },
    {
     "cell_type": "code",
     "collapsed": false,
     "input": [
      "applier(myfun, 3)"
     ],
     "language": "python",
     "metadata": {
      "slideshow": {
       "slide_type": "fragment"
      }
     },
     "outputs": [
      {
       "metadata": {},
       "output_type": "pyout",
       "prompt_number": 62,
       "text": [
        "9"
       ]
      }
     ],
     "prompt_number": 62
    },
    {
     "cell_type": "markdown",
     "metadata": {
      "slideshow": {
       "slide_type": "slide"
      }
     },
     "source": [
      "#Lambda functions"
     ]
    },
    {
     "cell_type": "markdown",
     "metadata": {
      "slideshow": {
       "slide_type": "fragment"
      }
     },
     "source": [
      "Functions can be defined in place\n",
      "\n",
      "`fun =  lambda x, y : x*y`\n",
      "\n",
      "Equivalent to\n",
      "\n",
      "```\n",
      "def fun(x,y):\n",
      "\n",
      "    return x*y\n",
      "```"
     ]
    },
    {
     "cell_type": "code",
     "collapsed": false,
     "input": [
      "fun =  lambda x, y : x*y"
     ],
     "language": "python",
     "metadata": {
      "slideshow": {
       "slide_type": "fragment"
      }
     },
     "outputs": [],
     "prompt_number": 64
    },
    {
     "cell_type": "code",
     "collapsed": false,
     "input": [
      "fun(1,2)"
     ],
     "language": "python",
     "metadata": {
      "slideshow": {
       "slide_type": "fragment"
      }
     },
     "outputs": [
      {
       "metadata": {},
       "output_type": "pyout",
       "prompt_number": 68,
       "text": [
        "2"
       ]
      }
     ],
     "prompt_number": 68
    },
    {
     "cell_type": "markdown",
     "metadata": {
      "slideshow": {
       "slide_type": "slide"
      }
     },
     "source": [
      "#Modules\n"
     ]
    },
    {
     "cell_type": "markdown",
     "metadata": {
      "slideshow": {
       "slide_type": "fragment"
      }
     },
     "source": [
      "**why?**\n",
      "\n",
      "* Use classes & functions defined in another file\n",
      "* <s>copy pasting code</s>"
     ]
    },
    {
     "cell_type": "markdown",
     "metadata": {
      "slideshow": {
       "slide_type": "fragment"
      }
     },
     "source": [
      "**what?**\n",
      "\n",
      "- A Python module is a file with the same name (plus the .py extension)\n",
      "\n"
     ]
    },
    {
     "cell_type": "markdown",
     "metadata": {
      "slideshow": {
       "slide_type": "fragment"
      }
     },
     "source": [
      "Like Java import, C++ *include*\n",
      "\n",
      "* Three formats of the command:\n",
      "\n",
      "        ```\n",
      "\t\timport somefile (as sf)\n",
      "\t\tfrom somefile import *\n",
      "\t\tfrom somefile import className\n",
      "        ```"
     ]
    },
    {
     "cell_type": "markdown",
     "metadata": {
      "slideshow": {
       "slide_type": "slide"
      }
     },
     "source": [
      "##`import`"
     ]
    },
    {
     "cell_type": "markdown",
     "metadata": {
      "slideshow": {
       "slide_type": "fragment"
      }
     },
     "source": [
      "`import somefile`\n",
      "\n",
      "* Everything in `somefile.py` gets imported\n",
      "\n",
      "* to refer to something in the file, append the text `somefile.` to the front of its name:\n",
      "\n",
      "    - `somefile.myFunction(34)`\n",
      " \n",
      " \n"
     ]
    },
    {
     "cell_type": "markdown",
     "metadata": {
      "slideshow": {
       "slide_type": "subslide"
      }
     },
     "source": [
      "**`import somefile as sf`**\n",
      "\n",
      "* import with an alias\n",
      "\n",
      "* to refer to something in the file, append the text `sf.` to the front of its name:\n",
      "\n",
      "    - `sf.myFunction(34)`"
     ]
    },
    {
     "cell_type": "markdown",
     "metadata": {
      "slideshow": {
       "slide_type": "slide"
      }
     },
     "source": [
      "## `from ...  import` \n"
     ]
    },
    {
     "cell_type": "markdown",
     "metadata": {
      "slideshow": {
       "slide_type": "fragment"
      }
     },
     "source": [
      "**`from somefile import *`**\n",
      "\n",
      "* everything in `somefile.py` gets imported\n",
      "\n",
      "* to refer to anything in the module, just use its name \n",
      "\n",
      "    - everything in the module is now in the current namespace\n",
      "\n",
      "* CAUTION! using this import command can easily overwrite the definition of an existing function or variable"
     ]
    },
    {
     "cell_type": "markdown",
     "metadata": {
      "slideshow": {
       "slide_type": "fragment"
      }
     },
     "source": [
      "**`from somefile import myFunction`**\n",
      "\n",
      "* Only the item `myFunction` in `somefile.py` gets imported\n",
      "\n",
      "* you can just use it without a module prefix\n",
      "\n",
      "    - It\u2019s brought into the current namespace\n",
      "    \n",
      "* CAUTION! This will overwrite the definition of this particular name if it is already defined in the current namespace!"
     ]
    },
    {
     "cell_type": "markdown",
     "metadata": {
      "slideshow": {
       "slide_type": "slide"
      }
     },
     "source": [
      "##Commonly Used Modules\n"
     ]
    },
    {
     "cell_type": "markdown",
     "metadata": {
      "slideshow": {
       "slide_type": "fragment"
      }
     },
     "source": [
      "Some useful modules to import coming along with Python installation:"
     ]
    },
    {
     "cell_type": "markdown",
     "metadata": {
      "slideshow": {
       "slide_type": "fragment"
      }
     },
     "source": [
      "- **`sys`**\t\t     - Lots of handy stuff\n",
      "\n",
      "    * `argv`\n",
      "    \n",
      "    * `sys.path.append`\n",
      "\n",
      "\n",
      "- **`os`**\t\t\t- OS specific code\n",
      "\n",
      "    * `listdir, system, \u2026`\n",
      "    \n",
      "    * `os.path`\t\t- directory processing\n",
      "    \n",
      "    \n",
      "- **`math`**\t\t- mathematical code   \n",
      "    - `sin, cos, exp, log, sqrt, \u2026`\n",
      "    \n",
      "    \n",
      "- **`random`**\t- random number code\n",
      "\n",
      "    - `uniform, choice, shuffle`\n",
      "\n",
      "\n",
      "- **`argparse`** - script input parsing"
     ]
    },
    {
     "cell_type": "markdown",
     "metadata": {
      "slideshow": {
       "slide_type": "slide"
      }
     },
     "source": [
      "###For Scientists"
     ]
    },
    {
     "cell_type": "markdown",
     "metadata": {
      "slideshow": {
       "slide_type": "fragment"
      }
     },
     "source": [
      "\n",
      "* **`numpy`**\t\t- basis for numerics\n",
      "\n",
      "    * powerful `numpy` array\n",
      "    \n",
      "    * efficient functions on `numpy` arrays\n",
      "    \n",
      "    \n",
      "* **`scipy`**`\t\t- advanced methods\n",
      "\n",
      "    * linear algebra\n",
      "    \n",
      "    * integration, ODE solving, \u2026  \n",
      "    \n",
      "    \n",
      "* **`matplotlib`**\t- matlab like plotting\n",
      "\n",
      "    * plotting"
     ]
    },
    {
     "cell_type": "markdown",
     "metadata": {},
     "source": [
      "###Hands on!\n",
      "\n",
      "Import the time module and get the local time"
     ]
    },
    {
     "cell_type": "code",
     "collapsed": false,
     "input": [],
     "language": "python",
     "metadata": {},
     "outputs": []
    },
    {
     "cell_type": "markdown",
     "metadata": {
      "slideshow": {
       "slide_type": "slide"
      }
     },
     "source": [
      "#Reference semantics"
     ]
    },
    {
     "cell_type": "code",
     "collapsed": false,
     "input": [
      "a = [1,2,3]\n",
      "b = a\n",
      "a.append(100)\n",
      "print(b)"
     ],
     "language": "python",
     "metadata": {
      "slideshow": {
       "slide_type": "fragment"
      }
     },
     "outputs": [
      {
       "output_type": "stream",
       "stream": "stdout",
       "text": [
        "[1, 2, 3, 100]\n"
       ]
      }
     ],
     "prompt_number": 115
    },
    {
     "cell_type": "markdown",
     "metadata": {
      "slideshow": {
       "slide_type": "fragment"
      }
     },
     "source": [
      "##why?\n",
      "\n",
      "* python references differently **mutable** and **unmutable** objects\n",
      "\n",
      "* assignment manipulates references\n",
      "\n",
      "    - `x = y` does not make a copy of the object y refers to,\n",
      "    \n",
      "    - it makes `x` refer to the same object `y` refers to"
     ]
    },
    {
     "cell_type": "markdown",
     "metadata": {
      "slideshow": {
       "slide_type": "fragment"
      }
     },
     "source": [
      "If we increment x what\u2019s really happening is:\n",
      "\n",
      "1. the reference of name `x` is looked up\n",
      "\n",
      "2. the value at that reference is retrieved\n",
      "\n",
      "3. the `3 + 1` calculation occurs, producing a new data element `4` which is assigned to a fresh memory location with a new reference.\n",
      "\n",
      "4. the name `x` is changed to point to this new reference\n",
      "\n",
      "5. the old data 3 is garbage collected if no name refers to it any longer"
     ]
    },
    {
     "cell_type": "markdown",
     "metadata": {
      "slideshow": {
       "slide_type": "slide"
      }
     },
     "source": [
      "### For immutable objects"
     ]
    },
    {
     "cell_type": "markdown",
     "metadata": {
      "slideshow": {
       "slide_type": "fragment"
      }
     },
     "source": [
      "* like tuples and simple built-in datatypes (integers, floats, strings), \n",
      "\n",
      "\n",
      "**Assignment behaves as you would expect:**"
     ]
    },
    {
     "cell_type": "code",
     "collapsed": false,
     "input": [
      "x = 3       # Creates 3, name x refers to 3 \n",
      "y = x       # Creates name y, refers to 3.\n",
      "y += 1      # Creates ref for 4. Changes y.\n",
      "print(x)     # No effect on x, still ref 3."
     ],
     "language": "python",
     "metadata": {
      "slideshow": {
       "slide_type": "fragment"
      }
     },
     "outputs": [
      {
       "output_type": "stream",
       "stream": "stdout",
       "text": [
        "3\n"
       ]
      }
     ],
     "prompt_number": 117
    },
    {
     "cell_type": "markdown",
     "metadata": {
      "slideshow": {
       "slide_type": "slide"
      }
     },
     "source": [
      "###For mutable data types"
     ]
    },
    {
     "cell_type": "markdown",
     "metadata": {
      "slideshow": {
       "slide_type": "fragment"
      }
     },
     "source": [
      "* lists, dictionaries, user-defined types)\n",
      "\n",
      "**Assignment works differently**"
     ]
    },
    {
     "cell_type": "code",
     "collapsed": false,
     "input": [
      "a = range (10)\n",
      "\n",
      "for item in a:\n",
      "\t\ta.pop() # pop always remove the last element\n",
      "        \n",
      "print(a)\n"
     ],
     "language": "python",
     "metadata": {
      "slideshow": {
       "slide_type": "fragment"
      }
     },
     "outputs": [
      {
       "output_type": "stream",
       "stream": "stdout",
       "text": [
        "[0, 1, 2, 3, 4]\n"
       ]
      }
     ],
     "prompt_number": 120
    },
    {
     "cell_type": "code",
     "collapsed": false,
     "input": [
      "a = range (10)\n",
      "\n",
      "for item in a[:]:\n",
      "\t\ta.pop() # pop always remove the last element\n",
      "\n",
      "print(a)"
     ],
     "language": "python",
     "metadata": {
      "slideshow": {
       "slide_type": "fragment"
      }
     },
     "outputs": [
      {
       "output_type": "stream",
       "stream": "stdout",
       "text": [
        "[]\n"
       ]
      }
     ],
     "prompt_number": 121
    },
    {
     "cell_type": "markdown",
     "metadata": {},
     "source": [
      "hands on part of the course!"
     ]
    },
    {
     "cell_type": "markdown",
     "metadata": {
      "slideshow": {
       "slide_type": "fragment"
      }
     },
     "source": [
      "<img src=\"files/./images/main-qimg-777ab890212522dcb64edd2b6ed0987c.png\">"
     ]
    }
   ],
   "metadata": {}
  }
 ]
}