{
 "metadata": {
  "name": "",
  "signature": "sha256:72ca7db427fd16c997c713051a42d042cc1fdf95539cfc45c621d56276e8ef83"
 },
 "nbformat": 3,
 "nbformat_minor": 0,
 "worksheets": [
  {
   "cells": [
    {
     "cell_type": "heading",
     "level": 3,
     "metadata": {},
     "source": [
      "Find Errors"
     ]
    },
    {
     "cell_type": "markdown",
     "metadata": {},
     "source": [
      "*Learned Skills: basic python skills*"
     ]
    },
    {
     "cell_type": "markdown",
     "metadata": {},
     "source": [
      "Find four programming errors in the following a script (if you find five, win a candy)."
     ]
    },
    {
     "cell_type": "code",
     "collapsed": false,
     "input": [
      "#!/usr/bin/ env python\n",
      "\n",
      "import sys, random\n",
      "\n",
      "def compute(n):\n",
      "    i = 0; s = 0\n",
      "    while i <= n:\n",
      "        s += random.random()\n",
      "         i += 1\n",
      "    return s/n\n",
      "\n",
      "n = sys.argv[1]\n",
      "\n",
      "print('the average of %d random numbers is %g' % (n, compute(n)))"
     ],
     "language": "python",
     "metadata": {},
     "outputs": []
    },
    {
     "cell_type": "heading",
     "level": 3,
     "metadata": {},
     "source": [
      "Cartesian/Polar Coordinates"
     ]
    },
    {
     "cell_type": "markdown",
     "metadata": {},
     "source": [
      "*Learned Skills:  Writing functions*"
     ]
    },
    {
     "cell_type": "markdown",
     "metadata": {},
     "source": [
      "Points may be given in polar $(r, \\theta)$ or cartesian coordinates $(x, y)$, see Figure 1.\n",
      "\n",
      "<img src=\"files/pol2cart.png\" />\n",
      "\n",
      "Figure 1. Relationship between polar and cartesian coordinates.\n"
     ]
    },
    {
     "cell_type": "markdown",
     "metadata": {},
     "source": [
      "1\\. Write a function $\\mathtt{pol2cart}$, that takes a tuple $\\mathtt{(r, \u03b8)}$ in polar coordinates and\n",
      "returns a tuple in cartesian coordinates."
     ]
    },
    {
     "cell_type": "markdown",
     "metadata": {},
     "source": [
      "2\\. Write the inverse function $\\mathtt{cart2pol}$, such that $\\mathtt{pol2cart( cart2pol( ( x,y) ) )}$ is $\\mathtt{(x, y)}$ for any input $\\mathtt{(x, y)}$."
     ]
    },
    {
     "cell_type": "markdown",
     "metadata": {},
     "source": [
      "3\\. Extend the two functions, such that they can in addition handle lists of tuples."
     ]
    },
    {
     "cell_type": "heading",
     "level": 3,
     "metadata": {},
     "source": [
      "Word counting"
     ]
    },
    {
     "cell_type": "markdown",
     "metadata": {},
     "source": [
      "*Learned Skills: File input/output*"
     ]
    },
    {
     "cell_type": "markdown",
     "metadata": {},
     "source": [
      "1\\. Create a script that opens a text file for reading and report the number of lines,\n",
      "words and characters. Assume that words are separated by whitespace (forget hifens!)."
     ]
    },
    {
     "cell_type": "markdown",
     "metadata": {},
     "source": [
      "2\\. Open a text file for writing and save the count in it."
     ]
    },
    {
     "cell_type": "markdown",
     "metadata": {},
     "source": [
      "3\\. Extra: Choose a book from The Project Gutenberg (www.gutenberg.org , e.g., *\u201cThe Merry Adventures of Robin Hood, by Howard Pyle\u201d*) in text format and list the ten most frequently used words. You can use a Dictionary for counting."
     ]
    },
    {
     "cell_type": "markdown",
     "metadata": {},
     "source": [
      "**Useful:** $\\mathtt{string.split()}$ $\\mathtt{open()}$, $\\mathtt{file.read()}$ and $\\mathtt{file.write()}$"
     ]
    },
    {
     "cell_type": "heading",
     "level": 3,
     "metadata": {},
     "source": [
      "Party game"
     ]
    },
    {
     "cell_type": "markdown",
     "metadata": {},
     "source": [
      "*Learned Skills: Random numbers; Loops*"
     ]
    },
    {
     "cell_type": "markdown",
     "metadata": {},
     "source": [
      "One guessing game, called \u201csqueezed\u201d, is very common in parties. It consists of a player,\n",
      "the chooser, who writes down a number between 00\u201399. The other players then take\n",
      "turns guessing numbers, with a catch: if one says the chosen number, he loses and has\n",
      "to do something daft. If the guessed number is not the chosen one, it splits the range.\n",
      "The chooser then states the part which contains the chosen number. If the new region\n",
      "only has one number, the chooser is said to be \u201csqueezed\u201d and is punished. An example\n",
      "of gameplay would be:\n",
      "\n",
      "* Chooser writes down (secretly) his number (let\u2019s say, 30).\n",
      " * Chooser: \u201cState a number between 00 and 99.\u201d\n",
      " * Player: \u201c42\u201d.\n",
      " * Chooser: \u201cState a number between 00 and 42.\u201d\n",
      " * Player: \u201c26\u201d.\n",
      " * Chooser: \u201cState a number between 26 and 42.\u201d\n",
      "\n",
      "    $\\vdots$\n",
      "    \n",
      " * Chooser: \u201cState a number between 29 and 32.\u201d\n",
      " * Player: \u201c31\u201d.\n",
      "* Chooser dances some very silly children song.\n",
      "\n",
      "Implement this game in Python, where the computer is the chooser.\n",
      "\n",
      "**Useful:** $\\mathtt{random.randint()}$ and $\\mathtt{raw\\_input()}$."
     ]
    },
    {
     "cell_type": "heading",
     "level": 3,
     "metadata": {},
     "source": [
      "Rock-paper-scissors"
     ]
    },
    {
     "cell_type": "markdown",
     "metadata": {},
     "source": [
      "*Learned Skills: Random choices*"
     ]
    },
    {
     "cell_type": "markdown",
     "metadata": {},
     "source": [
      "Implement the game of rock-paper-scissors. Extra: make it rock-paper-scissors-lizard-\n",
      "spock (if you do not know it, Wikipedia should help).\n",
      "\n",
      "**Useful:** $\\mathtt{random.choice()}$"
     ]
    },
    {
     "cell_type": "heading",
     "level": 3,
     "metadata": {},
     "source": [
      "Dice Simulation"
     ]
    },
    {
     "cell_type": "markdown",
     "metadata": {},
     "source": [
      "*Learned Skills: Random numbers; Monte-Carlo Simulation*"
     ]
    },
    {
     "cell_type": "markdown",
     "metadata": {},
     "source": [
      "Estimate the chance of an event in a dice game. What is the probability of getting\n",
      "at least one 6 when throwing two dice? This question can be analyzed theoretically\n",
      "by methods from probability theory. However, a more general alternative is to let a\n",
      "computer program throw two dice a large number of times and count how many times\n",
      "a 6 shows up. Such type of computer experiments, involving uncertain events, is often\n",
      "called Monte Carlo simulation."
     ]
    },
    {
     "cell_type": "markdown",
     "metadata": {},
     "source": [
      "1\\. Create a script that in a loop from 1 to $n$ draws two uniform random integers\n",
      "between 1 and 6 and counts how many times $p$ a 6 shows up. Write out the\n",
      "estimated probability $p/n$ together with the exact result 11/36. Run the script a\n",
      "few times with different n values and determine from the experiments how large\n",
      "n must be to get at least three decimals (0.306) of the probability correct. Use\n",
      "the random module to draw random uniformly distributed integers in a specified\n",
      "interval."
     ]
    },
    {
     "cell_type": "markdown",
     "metadata": {},
     "source": [
      "2\\. Generalize the script to an arbitrary number of dices, $N$."
     ]
    },
    {
     "cell_type": "markdown",
     "metadata": {},
     "source": [
      "3\\. Determine if you win or lose a hazard game. Somebody suggests the following\n",
      "game. You pay 1 unit of money and are allowed to throw four dice. If the sum of\n",
      "the eyes on the dice is less than 9, you win 10 units of money, otherwise you lose\n",
      "your investment. Should you play this game?"
     ]
    },
    {
     "cell_type": "heading",
     "level": 3,
     "metadata": {},
     "source": [
      "Run an external script"
     ]
    },
    {
     "cell_type": "markdown",
     "metadata": {},
     "source": [
      "*Learned Skills: Calling external applications; List handling*"
     ]
    },
    {
     "cell_type": "markdown",
     "metadata": {},
     "source": [
      "1\\. Write a script runexternal.py that runs the dice-simulation developed in the last\n",
      "exercise as an external program for a range of parameters ($n$ and $N$ ). The parameters should be passed to the script as command-line parameters. Collect the result in a list that as each element contains a four-tuple ($N$ , $n$, result, analytical\n",
      "result).\n",
      "\n",
      "Note: You could of course just put a loop into the monte-carlo script. However,\n",
      "calling it as an external application gives you the opportunity to put any program\n",
      "instead of the Monte-Carlo script (say a compiled simulation program you got\n",
      "from a collegue).\n",
      "\n",
      "Use $\\mathtt{subprocess.call()}$ for calling the script. Note that the subprocess module is\n",
      "most appropriate to learn because this module intends to replace several other,\n",
      "older modules and functions, such as: $\\mathtt{os.system, \\, os.spawn.*, \\, os.popen.*, \\, popen2.* }$ and $\\mathtt{commands.*}$."
     ]
    },
    {
     "cell_type": "markdown",
     "metadata": {},
     "source": [
      "2\\. Output the result in a comma-separated (.csv) file."
     ]
    },
    {
     "cell_type": "markdown",
     "metadata": {},
     "source": [
      "3\\. Let $\\mathtt{runexternal.py}$ take command line arguments that allow the user to specify\n",
      "ranges in MATLAB-style for which the external script should be called.\n",
      "E.g."
     ]
    },
    {
     "cell_type": "code",
     "collapsed": false,
     "input": [
      "$ python runexternal.py N=1:5 n=100:1000:10000"
     ],
     "language": "python",
     "metadata": {},
     "outputs": []
    },
    {
     "cell_type": "markdown",
     "metadata": {},
     "source": [
      "should run the script with any combination of $N = 1, 2, 3, 4, 5$ and $n = 100, 1100, 2100, \\dots$.\n",
      "\n",
      "Use the $\\mathtt{argparse}$ module to rewrite command-line parsing in $\\mathtt{runexternal.py}$\n",
      "from this exercise.\n",
      "\n",
      "*Hint:* A tutorial can be found at http://docs.python.org/2/howto/argparse.html"
     ]
    },
    {
     "cell_type": "heading",
     "level": 3,
     "metadata": {},
     "source": [
      "Calculating a Histogram"
     ]
    },
    {
     "cell_type": "markdown",
     "metadata": {},
     "source": [
      "*Learned Skills: Creating a function; List handling; Random numbers*"
     ]
    },
    {
     "cell_type": "markdown",
     "metadata": {},
     "source": [
      "1\\. Write a function $\\mathtt{histgram(data, numbins)}$ which calculates the histogram of a\n",
      "given data set, where numbins gives the number of intervals in which the data\n",
      "range is divided.\n",
      "\n",
      "The function should return a tuple of two lists of equal lengths. The first list\n",
      "contains the midpoints of the intervals and the second list contains the counts of\n",
      "data points in the interval."
     ]
    },
    {
     "cell_type": "markdown",
     "metadata": {},
     "source": [
      "2\\. Give a pseudo-graphical representation of the distribution, by drawing a number of\n",
      "stars corresponding to the number of data elements in a given interval. Example:"
     ]
    },
    {
     "cell_type": "code",
     "collapsed": false,
     "input": [
      "0.0\n",
      "0.5\n",
      "1.0\n",
      "1.5\n",
      "2.0\n",
      "2.5\n",
      "3.0\n",
      "3.5\n",
      "4.0\n",
      "\n",
      "***\n",
      "*****\n",
      "********\n",
      "******************\n",
      "*************\n",
      "**********\n",
      "********\n",
      "******\n",
      "**"
     ],
     "language": "python",
     "metadata": {},
     "outputs": []
    },
    {
     "cell_type": "markdown",
     "metadata": {},
     "source": [
      "3\\. Test the function by drawing samples from different probability distributions from the package $\\mathtt{random}$."
     ]
    }
   ],
   "metadata": {}
  }
 ]
}