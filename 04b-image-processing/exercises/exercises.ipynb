{
 "cells": [
  {
   "cell_type": "markdown",
   "metadata": {},
   "source": [
    "# Exercises\n",
    "\n",
    "The solutions are hidden in the markdown cells. But try it yourself before looking at them!"
   ]
  },
  {
   "cell_type": "markdown",
   "metadata": {},
   "source": [
    "## Show the image in skimage.data.chelsea\n",
    "\n",
    "solution:\n",
    "\n",
    "<!---\n",
    "import pylab as pl\n",
    "%matplotlib inline\n",
    "import numpy as np\n",
    "import skimage\n",
    "from skimage import data\n",
    "\n",
    "image = data.chelsea()\n",
    "pl.imshow(image)\n",
    "-->"
   ]
  },
  {
   "cell_type": "code",
   "execution_count": null,
   "metadata": {
    "collapsed": false
   },
   "outputs": [],
   "source": []
  },
  {
   "cell_type": "markdown",
   "metadata": {},
   "source": [
    "## Plot the histograms of the red, green, and blue values.\n",
    "\n",
    "solution:\n",
    "\n",
    "<!---\n",
    "hist_r, bins_r = np.histogram(image[:,:,0],bins=np.linspace(0,255,255))\n",
    "hist_g, bins_g = np.histogram(image[:,:,1],bins=np.linspace(0,255,255))\n",
    "hist_b, bins_b = np.histogram(image[:,:,2],bins=np.linspace(0,255,255))\n",
    "pl.plot(hist_r,'r')\n",
    "pl.plot(hist_g,'g')\n",
    "pl.plot(hist_b,'b')\n",
    "-->"
   ]
  },
  {
   "cell_type": "code",
   "execution_count": null,
   "metadata": {
    "collapsed": true
   },
   "outputs": [],
   "source": []
  },
  {
   "cell_type": "markdown",
   "metadata": {},
   "source": [
    "## Apply a gaussian filter on the image (skimage.filters.gaussian_filter)\n",
    "\n",
    "solution:\n",
    "<!---\n",
    "from skimage import filters\n",
    "image2 = filters.gaussian_filter(image, 10)\n",
    "pl.imshow(image2)\n",
    "-->"
   ]
  },
  {
   "cell_type": "code",
   "execution_count": null,
   "metadata": {
    "collapsed": true
   },
   "outputs": [],
   "source": []
  },
  {
   "cell_type": "markdown",
   "metadata": {},
   "source": [
    "## Detect the edges usind the sobel edge-detection (skimage.filters.sobel)\n",
    "\n",
    "solution:\n",
    "<!---\n",
    "edges = filters.sobel(skimage.color.rgb2gray(image))\n",
    "pl.imshow(edges,cmap=pl.cm.gray)\n",
    "-->"
   ]
  },
  {
   "cell_type": "code",
   "execution_count": null,
   "metadata": {
    "collapsed": true
   },
   "outputs": [],
   "source": []
  },
  {
   "cell_type": "code",
   "execution_count": null,
   "metadata": {
    "collapsed": true
   },
   "outputs": [],
   "source": []
  },
  {
   "cell_type": "markdown",
   "metadata": {
    "collapsed": true
   },
   "source": [
    "## Fluorescence images\n",
    "\n",
    "Tired of that cat? Tired of high-quality? Here are some fluorescence images of an aphid formerly living at an office plant somewhere in the MPIDS. They are illuminated with three different light colors.\n",
    "\n",
    "image_151112_009.TIF <img src=\"../images/image_151112_009.TIF\" width=\"15%\" height=\"15%\">\n",
    "image_151112_010.TIF <img src=\"../images/image_151112_010.TIF\" width=\"15%\" height=\"15%\">\n",
    "image_151112_011.TIF <img src=\"../images/image_151112_011.TIF\" width=\"15%\" height=\"15%\">\n",
    "\n",
    "**beauty therapy**: \n",
    "\n",
    "First of all, they contain a lot of noise due to long exposure and high gain. A [median filter](https://en.wikipedia.org/wiki/Median_filter) (e.g. skimage.filters.rank.median) could help here. \n",
    "\n",
    "Secondly, we can improve the contrast. If you look at the histograms you can see that the most intensity is within a narrow range. We can stretch the histogram to the full range using skimage.exposure.rescale_intensity. \n",
    "\n",
    "If you have time you can do more improvements, e.g. removing the background light by adjusting gamma values or clipping the lower part of the histogram, but as a first aid this is enough. \n",
    "\n",
    "**colors**:\n",
    "\n",
    "Now let's get colors! Create an empty RGB-image and put the first image to the red-channel, the second to the green-channel and the third to the blue-channel. \n"
   ]
  },
  {
   "cell_type": "markdown",
   "metadata": {},
   "source": [
    "solution:\n",
    "\n",
    "<!---\n",
    "import numpy as np\n",
    "import scipy as sp\n",
    "import scipy.ndimage as spi\n",
    "import skimage\n",
    "import skimage.color\n",
    "import skimage.filters\n",
    "import skimage.morphology\n",
    "import skimage.io\n",
    "import matplotlib\n",
    "import pylab as pl\n",
    "%matplotlib inline\n",
    "\n",
    "def preprocessing(image):\n",
    "    #convert to greyscale (actually they are already grey-images, but stored in a 3-dim array where each channel contains the same values) \n",
    "    image2 = image[:,:,0]\n",
    "    #Apply median filter to get rid of hot pixel:\n",
    "    image2 = skimage.filters.rank.median(image2, skimage.morphology.disk(5))\n",
    "    #Stretch contrast:\n",
    "    image2 = skimage.exposure.rescale_intensity(image2)\n",
    "    return image2\n",
    "\n",
    "#loading the images\n",
    "image1 = spi.imread(\"../images/image_151112_009.TIF\")\n",
    "image2 = spi.imread(\"../images/image_151112_010.TIF\")\n",
    "image3 = spi.imread(\"../images/image_151112_011.TIF\")\n",
    "\n",
    "#Preprocessing\n",
    "image1b = preprocessing(image1)\n",
    "image2b = preprocessing(image2)\n",
    "image3b = preprocessing(image3)\n",
    "\n",
    "#Assigning each image to one channel:\n",
    "image_new = np.zeros(shape=image1.shape,dtype=np.uint8)\n",
    "image_new[:,:,0] = image1b\n",
    "image_new[:,:,1] = image2b\n",
    "image_new[:,:,2] = image3b\n",
    "\n",
    "\n",
    "pl.figure(figsize = (12,12))\n",
    "pl.imshow(image_new)\n",
    "#skimage.io.imsave(\"result.png\", image_new)\n",
    "-->\n",
    "\n"
   ]
  },
  {
   "cell_type": "code",
   "execution_count": null,
   "metadata": {
    "collapsed": true
   },
   "outputs": [],
   "source": []
  },
  {
   "cell_type": "code",
   "execution_count": 14,
   "metadata": {
    "collapsed": true
   },
   "outputs": [],
   "source": [
    "\n"
   ]
  },
  {
   "cell_type": "code",
   "execution_count": null,
   "metadata": {
    "collapsed": true
   },
   "outputs": [],
   "source": []
  }
 ],
 "metadata": {
  "kernelspec": {
   "display_name": "Python 3",
   "language": "python",
   "name": "python3"
  },
  "language_info": {
   "codemirror_mode": {
    "name": "ipython",
    "version": 3
   },
   "file_extension": ".py",
   "mimetype": "text/x-python",
   "name": "python",
   "nbconvert_exporter": "python",
   "pygments_lexer": "ipython3",
   "version": "3.4.3"
  },
  "latex_envs": {
   "bibliofile": "biblio.bib",
   "cite_by": "apalike",
   "current_citInitial": 1,
   "eqLabelWithNumbers": true,
   "eqNumInitial": 0
  },
  "nav_menu": {},
  "toc": {
   "navigate_menu": true,
   "number_sections": true,
   "sideBar": true,
   "threshold": 6,
   "toc_cell": false,
   "toc_section_display": "block",
   "toc_window_display": false
  }
 },
 "nbformat": 4,
 "nbformat_minor": 0
}
